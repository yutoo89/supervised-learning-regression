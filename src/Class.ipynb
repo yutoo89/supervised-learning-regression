{
 "cells": [
  {
   "cell_type": "markdown",
   "id": "f705fe24",
   "metadata": {},
   "source": [
    "# classの基礎"
   ]
  },
  {
   "cell_type": "code",
   "execution_count": 1,
   "id": "0ec92c7e",
   "metadata": {},
   "outputs": [],
   "source": [
    "class Person:\n",
    "    nationality = 'Japan'\n",
    "    \n",
    "    def say_hello(self):\n",
    "        print(f'こんにちは、私の国籍は{self.nationality}です。')"
   ]
  },
  {
   "cell_type": "code",
   "execution_count": 2,
   "id": "e11592f2",
   "metadata": {},
   "outputs": [],
   "source": [
    "person = Person()"
   ]
  },
  {
   "cell_type": "code",
   "execution_count": 3,
   "id": "fd548cc5",
   "metadata": {},
   "outputs": [
    {
     "data": {
      "text/plain": [
       "'Japan'"
      ]
     },
     "execution_count": 3,
     "metadata": {},
     "output_type": "execute_result"
    }
   ],
   "source": [
    "person.nationality"
   ]
  },
  {
   "cell_type": "code",
   "execution_count": 4,
   "id": "a7e8b2ab",
   "metadata": {},
   "outputs": [
    {
     "name": "stdout",
     "output_type": "stream",
     "text": [
      "こんにちは、私の国籍はJapanです。\n"
     ]
    }
   ],
   "source": [
    "person.say_hello()"
   ]
  },
  {
   "cell_type": "markdown",
   "id": "532d0215",
   "metadata": {},
   "source": [
    "# コンストラクタの定義"
   ]
  },
  {
   "cell_type": "code",
   "execution_count": 7,
   "id": "c1edacd2",
   "metadata": {},
   "outputs": [],
   "source": [
    "class Person:\n",
    "    nationality = 'Japan'\n",
    "\n",
    "    def __init__(self, name):\n",
    "        self.name = name\n",
    "\n",
    "    def say_hello(self):\n",
    "        print(f'こんにちは、私の国籍は{self.nationality}です。')\n",
    "        \n",
    "    def say_my_name(self):\n",
    "        print(f'私の名前は{self.name}です。')"
   ]
  },
  {
   "cell_type": "code",
   "execution_count": 8,
   "id": "d89706e6",
   "metadata": {},
   "outputs": [
    {
     "name": "stdout",
     "output_type": "stream",
     "text": [
      "私の名前はほげです。\n"
     ]
    }
   ],
   "source": [
    "person = Person('ほげ')\n",
    "person.say_my_name()"
   ]
  },
  {
   "cell_type": "markdown",
   "id": "67a7d685",
   "metadata": {},
   "source": [
    "# 継承"
   ]
  },
  {
   "cell_type": "code",
   "execution_count": 12,
   "id": "19b0f683",
   "metadata": {},
   "outputs": [],
   "source": [
    "class Kid(Person):\n",
    "    def say_hello(self, age):\n",
    "        print(f'わたしのなまえは{self.name}です。ねんれいは{age}さいです。')"
   ]
  },
  {
   "cell_type": "code",
   "execution_count": 14,
   "id": "425133fe",
   "metadata": {},
   "outputs": [
    {
     "name": "stdout",
     "output_type": "stream",
     "text": [
      "わたしのなまえはけんすけです。ねんれいは5さいです。\n"
     ]
    }
   ],
   "source": [
    "kid = Kid('けんすけ')\n",
    "kid.say_hello(5)"
   ]
  },
  {
   "cell_type": "code",
   "execution_count": 16,
   "id": "a1c566cf",
   "metadata": {},
   "outputs": [
    {
     "data": {
      "text/plain": [
       "'Japan'"
      ]
     },
     "execution_count": 16,
     "metadata": {},
     "output_type": "execute_result"
    }
   ],
   "source": [
    "kid.nationality"
   ]
  },
  {
   "cell_type": "markdown",
   "id": "ed9c330f",
   "metadata": {},
   "source": [
    "# privateとpublic"
   ]
  },
  {
   "cell_type": "code",
   "execution_count": null,
   "id": "38bd23ab",
   "metadata": {},
   "outputs": [],
   "source": [
    "class Person:\n",
    "    nationality = 'Japan'\n",
    "\n",
    "    def __init__(self, name):\n",
    "        self.name = name\n",
    "\n",
    "    def say_hello(self):\n",
    "        print(f'こんにちは、私の国籍は{self.nationality}です。')\n",
    "        \n",
    "    def say_my_name(self):\n",
    "        print(f'私の名前は{self.name}です。')"
   ]
  },
  {
   "cell_type": "code",
   "execution_count": 17,
   "id": "4611792c",
   "metadata": {},
   "outputs": [
    {
     "data": {
      "text/plain": [
       "'ほげ'"
      ]
     },
     "execution_count": 17,
     "metadata": {},
     "output_type": "execute_result"
    }
   ],
   "source": [
    "person = Person('ほげ')\n",
    "person.name"
   ]
  },
  {
   "cell_type": "code",
   "execution_count": 18,
   "id": "56077eba",
   "metadata": {},
   "outputs": [
    {
     "name": "stdout",
     "output_type": "stream",
     "text": [
      "こんにちは、私の国籍はJapanです。\n"
     ]
    }
   ],
   "source": [
    "person.say_hello()"
   ]
  },
  {
   "cell_type": "code",
   "execution_count": 19,
   "id": "b51d0e67",
   "metadata": {},
   "outputs": [
    {
     "data": {
      "text/plain": [
       "'Japan'"
      ]
     },
     "execution_count": 19,
     "metadata": {},
     "output_type": "execute_result"
    }
   ],
   "source": [
    "person.nationality"
   ]
  },
  {
   "cell_type": "markdown",
   "id": "9b333452",
   "metadata": {},
   "source": [
    "これをprivateにしたい場合は__をつける"
   ]
  },
  {
   "cell_type": "code",
   "execution_count": 24,
   "id": "747ba048",
   "metadata": {},
   "outputs": [],
   "source": [
    "class Person:\n",
    "    __nationality = 'Japan'\n",
    "\n",
    "    def __init__(self, name):\n",
    "        self.name = name\n",
    "\n",
    "    def say_hello(self):\n",
    "        print(f'こんにちは、私の国籍は{self.__nationality}です。')\n",
    "        \n",
    "    def __say_my_name(self):\n",
    "        print(f'私の名前は{self.name}です。')"
   ]
  },
  {
   "cell_type": "code",
   "execution_count": 25,
   "id": "979a98cb",
   "metadata": {},
   "outputs": [
    {
     "data": {
      "text/plain": [
       "'ほげ'"
      ]
     },
     "execution_count": 25,
     "metadata": {},
     "output_type": "execute_result"
    }
   ],
   "source": [
    "person = Person('ほげ')\n",
    "person.name"
   ]
  },
  {
   "cell_type": "code",
   "execution_count": 26,
   "id": "af4026f6",
   "metadata": {},
   "outputs": [
    {
     "ename": "AttributeError",
     "evalue": "'Person' object has no attribute '__nationality'",
     "output_type": "error",
     "traceback": [
      "\u001b[0;31m---------------------------------------------------------------------------\u001b[0m",
      "\u001b[0;31mAttributeError\u001b[0m                            Traceback (most recent call last)",
      "Input \u001b[0;32mIn [26]\u001b[0m, in \u001b[0;36m<cell line: 1>\u001b[0;34m()\u001b[0m\n\u001b[0;32m----> 1\u001b[0m \u001b[43mperson\u001b[49m\u001b[38;5;241;43m.\u001b[39;49m\u001b[43m__nationality\u001b[49m\n",
      "\u001b[0;31mAttributeError\u001b[0m: 'Person' object has no attribute '__nationality'"
     ]
    }
   ],
   "source": [
    "person.__nationality"
   ]
  },
  {
   "cell_type": "code",
   "execution_count": 29,
   "id": "3ea6d8db",
   "metadata": {},
   "outputs": [
    {
     "ename": "AttributeError",
     "evalue": "'Person' object has no attribute '__say_my_name'",
     "output_type": "error",
     "traceback": [
      "\u001b[0;31m---------------------------------------------------------------------------\u001b[0m",
      "\u001b[0;31mAttributeError\u001b[0m                            Traceback (most recent call last)",
      "Input \u001b[0;32mIn [29]\u001b[0m, in \u001b[0;36m<cell line: 1>\u001b[0;34m()\u001b[0m\n\u001b[0;32m----> 1\u001b[0m \u001b[43mperson\u001b[49m\u001b[38;5;241;43m.\u001b[39;49m\u001b[43m__say_my_name\u001b[49m()\n",
      "\u001b[0;31mAttributeError\u001b[0m: 'Person' object has no attribute '__say_my_name'"
     ]
    }
   ],
   "source": [
    "person.__say_my_name()"
   ]
  },
  {
   "cell_type": "code",
   "execution_count": 28,
   "id": "ae4374d9",
   "metadata": {},
   "outputs": [
    {
     "name": "stdout",
     "output_type": "stream",
     "text": [
      "こんにちは、私の国籍はJapanです。\n"
     ]
    }
   ],
   "source": [
    "person.say_hello()"
   ]
  }
 ],
 "metadata": {
  "kernelspec": {
   "display_name": "Python 3 (ipykernel)",
   "language": "python",
   "name": "python3"
  },
  "language_info": {
   "codemirror_mode": {
    "name": "ipython",
    "version": 3
   },
   "file_extension": ".py",
   "mimetype": "text/x-python",
   "name": "python",
   "nbconvert_exporter": "python",
   "pygments_lexer": "ipython3",
   "version": "3.9.13"
  }
 },
 "nbformat": 4,
 "nbformat_minor": 5
}
