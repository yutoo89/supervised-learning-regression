{
 "cells": [
  {
   "cell_type": "markdown",
   "id": "39528d50",
   "metadata": {},
   "source": [
    "# 特定の値を抽出"
   ]
  },
  {
   "cell_type": "code",
   "execution_count": 2,
   "id": "01142c6e",
   "metadata": {},
   "outputs": [
    {
     "data": {
      "text/plain": [
       "4"
      ]
     },
     "execution_count": 2,
     "metadata": {},
     "output_type": "execute_result"
    }
   ],
   "source": [
    "numbers = [0, 4, 8, -4, 9, 1]\n",
    "numbers[1]"
   ]
  },
  {
   "cell_type": "code",
   "execution_count": 3,
   "id": "22a46227",
   "metadata": {},
   "outputs": [
    {
     "data": {
      "text/plain": [
       "1"
      ]
     },
     "execution_count": 3,
     "metadata": {},
     "output_type": "execute_result"
    }
   ],
   "source": [
    "numbers[-1]"
   ]
  },
  {
   "cell_type": "code",
   "execution_count": 5,
   "id": "fbcd9518",
   "metadata": {},
   "outputs": [
    {
     "data": {
      "text/plain": [
       "[0, 4, 8, -4, 9, 1, 3, 3]"
      ]
     },
     "execution_count": 5,
     "metadata": {},
     "output_type": "execute_result"
    }
   ],
   "source": [
    "numbers.append(3)\n",
    "numbers"
   ]
  },
  {
   "cell_type": "markdown",
   "id": "b2fd8ff7",
   "metadata": {},
   "source": [
    "# 値の挿入"
   ]
  },
  {
   "cell_type": "code",
   "execution_count": 8,
   "id": "0e5e387c",
   "metadata": {},
   "outputs": [
    {
     "data": {
      "text/plain": [
       "[5, 0, 4, 8, -4, 9, 1]"
      ]
     },
     "execution_count": 8,
     "metadata": {},
     "output_type": "execute_result"
    }
   ],
   "source": [
    "numbers = [0, 4, 8, -4, 9, 1]\n",
    "numbers.insert(0, 5)\n",
    "numbers"
   ]
  },
  {
   "cell_type": "code",
   "execution_count": 10,
   "id": "35f4c14e",
   "metadata": {},
   "outputs": [
    {
     "data": {
      "text/plain": [
       "[0, 4, 8, -4, 9, 2, 1]"
      ]
     },
     "execution_count": 10,
     "metadata": {},
     "output_type": "execute_result"
    }
   ],
   "source": [
    "# 後ろから一番目に挿入\n",
    "numbers = [0, 4, 8, -4, 9, 1]\n",
    "numbers.insert(-1, 2)\n",
    "numbers"
   ]
  },
  {
   "cell_type": "markdown",
   "id": "70ddd451",
   "metadata": {},
   "source": [
    "# 特定の値を削除"
   ]
  },
  {
   "cell_type": "code",
   "execution_count": 11,
   "id": "c0f0895f",
   "metadata": {},
   "outputs": [
    {
     "data": {
      "text/plain": [
       "[0, 8, -4, 9, 1]"
      ]
     },
     "execution_count": 11,
     "metadata": {},
     "output_type": "execute_result"
    }
   ],
   "source": [
    "numbers = [0, 4, 8, -4, 9, 1]\n",
    "numbers.remove(4) # 消したい値を指定\n",
    "numbers"
   ]
  },
  {
   "cell_type": "code",
   "execution_count": null,
   "id": "92490cd9",
   "metadata": {},
   "outputs": [],
   "source": [
    "numbers = [0, 4, 8, -4, 9, 1]\n",
    "numbers.remove(4) # 消したい値を指定\n",
    "numbers"
   ]
  },
  {
   "cell_type": "code",
   "execution_count": 12,
   "id": "24a8ae57",
   "metadata": {},
   "outputs": [
    {
     "data": {
      "text/plain": [
       "[0, 4, 8, 9, 1]"
      ]
     },
     "execution_count": 12,
     "metadata": {},
     "output_type": "execute_result"
    }
   ],
   "source": [
    "numbers = [0, 4, 8, -4, 9, 1]\n",
    "numbers.pop(-3) # 消したいindexを指定\n",
    "numbers"
   ]
  },
  {
   "cell_type": "markdown",
   "id": "1cefc139",
   "metadata": {},
   "source": [
    "# フィルター"
   ]
  },
  {
   "cell_type": "code",
   "execution_count": 13,
   "id": "32bead6f",
   "metadata": {},
   "outputs": [],
   "source": [
    "def isEven(number):\n",
    "    if number % 2 == 0:\n",
    "        print(f'this number, {number} is even!')\n",
    "        return True\n",
    "    else:\n",
    "        print(f'this number, {number} is odd!')\n",
    "        return False"
   ]
  },
  {
   "cell_type": "code",
   "execution_count": 14,
   "id": "f8d09b1b",
   "metadata": {},
   "outputs": [
    {
     "name": "stdout",
     "output_type": "stream",
     "text": [
      "this number, 0 is even!\n",
      "this number, 4 is even!\n",
      "this number, 8 is even!\n",
      "this number, 9 is odd!\n",
      "this number, 1 is odd!\n"
     ]
    },
    {
     "data": {
      "text/plain": [
       "[0, 4, 8]"
      ]
     },
     "execution_count": 14,
     "metadata": {},
     "output_type": "execute_result"
    }
   ],
   "source": [
    "list(filter(isEven, numbers))"
   ]
  },
  {
   "cell_type": "code",
   "execution_count": 19,
   "id": "13530bdd",
   "metadata": {},
   "outputs": [],
   "source": [
    "messages = [\n",
    "    '私はほげです',\n",
    "    'こんにちは',\n",
    "    '今日は晴れですね',\n",
    "    '昨日私はパンを食べました'\n",
    "]\n",
    "def isSelfStory(str):\n",
    "    if '私は' in str:\n",
    "        print(f'this string, {str} is self story!')\n",
    "        return True\n",
    "    else:\n",
    "        print(f'this string, {str} is not self story!')\n",
    "        return False"
   ]
  },
  {
   "cell_type": "code",
   "execution_count": 20,
   "id": "f9aaa594",
   "metadata": {},
   "outputs": [
    {
     "name": "stdout",
     "output_type": "stream",
     "text": [
      "this string, 私はほげです is self story!\n",
      "this string, こんにちは is not self story!\n",
      "this string, 今日は晴れですね is not self story!\n",
      "this string, 昨日私はパンを食べました is self story!\n"
     ]
    },
    {
     "data": {
      "text/plain": [
       "['私はほげです', '昨日私はパンを食べました']"
      ]
     },
     "execution_count": 20,
     "metadata": {},
     "output_type": "execute_result"
    }
   ],
   "source": [
    "list(filter(isSelfStory, messages))"
   ]
  },
  {
   "cell_type": "markdown",
   "id": "03f9a606",
   "metadata": {},
   "source": [
    "# 引数と一致する要素のインデックス"
   ]
  },
  {
   "cell_type": "code",
   "execution_count": 22,
   "id": "326b25d2",
   "metadata": {},
   "outputs": [
    {
     "data": {
      "text/plain": [
       "3"
      ]
     },
     "execution_count": 22,
     "metadata": {},
     "output_type": "execute_result"
    }
   ],
   "source": [
    "numbers = [0, 4, 8, -4, 9, 1]\n",
    "numbers.index(-4)"
   ]
  },
  {
   "cell_type": "markdown",
   "id": "0ee51d5b",
   "metadata": {},
   "source": [
    "# 昇順・降順"
   ]
  },
  {
   "cell_type": "code",
   "execution_count": 23,
   "id": "d5e4965f",
   "metadata": {},
   "outputs": [
    {
     "data": {
      "text/plain": [
       "[0, 4, 8, -4, 9, 1]"
      ]
     },
     "execution_count": 23,
     "metadata": {},
     "output_type": "execute_result"
    }
   ],
   "source": [
    "numbers"
   ]
  },
  {
   "cell_type": "code",
   "execution_count": 25,
   "id": "4dc928da",
   "metadata": {},
   "outputs": [
    {
     "data": {
      "text/plain": [
       "[-4, 0, 1, 4, 8, 9]"
      ]
     },
     "execution_count": 25,
     "metadata": {},
     "output_type": "execute_result"
    }
   ],
   "source": [
    "# 昇順\n",
    "numbers.sort()\n",
    "numbers"
   ]
  },
  {
   "cell_type": "code",
   "execution_count": 26,
   "id": "87b03ee5",
   "metadata": {},
   "outputs": [
    {
     "data": {
      "text/plain": [
       "[9, 8, 4, 1, 0, -4]"
      ]
     },
     "execution_count": 26,
     "metadata": {},
     "output_type": "execute_result"
    }
   ],
   "source": [
    "numbers.sort(reverse=True)\n",
    "numbers"
   ]
  }
 ],
 "metadata": {
  "kernelspec": {
   "display_name": "Python 3 (ipykernel)",
   "language": "python",
   "name": "python3"
  },
  "language_info": {
   "codemirror_mode": {
    "name": "ipython",
    "version": 3
   },
   "file_extension": ".py",
   "mimetype": "text/x-python",
   "name": "python",
   "nbconvert_exporter": "python",
   "pygments_lexer": "ipython3",
   "version": "3.9.13"
  }
 },
 "nbformat": 4,
 "nbformat_minor": 5
}
