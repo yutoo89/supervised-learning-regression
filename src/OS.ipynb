{
 "cells": [
  {
   "cell_type": "markdown",
   "id": "1cffa34a",
   "metadata": {},
   "source": [
    "# 全ファイルの情報取得\n",
    "current directoryの全ファイルを取得"
   ]
  },
  {
   "cell_type": "code",
   "execution_count": 2,
   "id": "b655c9cd",
   "metadata": {},
   "outputs": [
    {
     "name": "stdout",
     "output_type": "stream",
     "text": [
      "['Class.ipynb', 'Exception handling.ipynb', 'File.ipynb', 'LinearRegression.ipynb', 'List.ipynb', 'OS.ipynb', 'classification.ipynb', 'dictionar-if-for.ipynb', 'regression_pls.csv', 'string.ipynb']\n",
      "['Class-checkpoint.ipynb', 'Exception handling-checkpoint.ipynb', 'File-checkpoint.ipynb', 'LinearRegression-checkpoint.ipynb', 'List-checkpoint.ipynb', 'OS-checkpoint.ipynb', 'classification-checkpoint.ipynb', 'dictionar-if-for-checkpoint.ipynb', 'string-checkpoint.ipynb']\n",
      "['sample.json', 'sample.txt']\n"
     ]
    }
   ],
   "source": [
    "import os\n",
    "# walkの引数'.'はカレントディレクトリの意味\n",
    "for curDir, dirs, files in os.walk('.'):\n",
    "    print(files)"
   ]
  },
  {
   "cell_type": "code",
   "execution_count": 3,
   "id": "7d2b7afb",
   "metadata": {},
   "outputs": [
    {
     "name": "stdout",
     "output_type": "stream",
     "text": [
      "['.ipynb_checkpoints', 'file']\n",
      "[]\n",
      "[]\n"
     ]
    }
   ],
   "source": [
    "for curDir, dirs, files in os.walk('.'):\n",
    "    print(dirs)"
   ]
  },
  {
   "cell_type": "code",
   "execution_count": 6,
   "id": "2919caed",
   "metadata": {},
   "outputs": [
    {
     "name": "stdout",
     "output_type": "stream",
     "text": [
      "Class.ipynb\n",
      "Exception handling.ipynb\n",
      "File.ipynb\n",
      "LinearRegression.ipynb\n",
      "List.ipynb\n",
      "OS.ipynb\n",
      "classification.ipynb\n",
      "dictionar-if-for.ipynb\n",
      "string.ipynb\n",
      "Class-checkpoint.ipynb\n",
      "Exception handling-checkpoint.ipynb\n",
      "File-checkpoint.ipynb\n",
      "LinearRegression-checkpoint.ipynb\n",
      "List-checkpoint.ipynb\n",
      "OS-checkpoint.ipynb\n",
      "classification-checkpoint.ipynb\n",
      "dictionar-if-for-checkpoint.ipynb\n",
      "string-checkpoint.ipynb\n"
     ]
    }
   ],
   "source": [
    "for curDir, dirs, files in os.walk('.'):\n",
    "    for file in files:\n",
    "        if 'ipynb' in file:\n",
    "            print(file)"
   ]
  },
  {
   "cell_type": "markdown",
   "id": "baece859",
   "metadata": {},
   "source": [
    "# ファイル情報の取得"
   ]
  },
  {
   "cell_type": "code",
   "execution_count": 9,
   "id": "c46fca56",
   "metadata": {},
   "outputs": [
    {
     "data": {
      "text/plain": [
       "['.ipynb_checkpoints',\n",
       " 'Class.ipynb',\n",
       " 'Exception handling.ipynb',\n",
       " 'File.ipynb',\n",
       " 'LinearRegression.ipynb',\n",
       " 'List.ipynb',\n",
       " 'OS.ipynb',\n",
       " 'classification.ipynb',\n",
       " 'dictionar-if-for.ipynb',\n",
       " 'file',\n",
       " 'regression_pls.csv',\n",
       " 'string.ipynb']"
      ]
     },
     "execution_count": 9,
     "metadata": {},
     "output_type": "execute_result"
    }
   ],
   "source": [
    "lists = os.listdir('.')\n",
    "lists"
   ]
  },
  {
   "cell_type": "code",
   "execution_count": 12,
   "id": "b182aa2d",
   "metadata": {},
   "outputs": [
    {
     "data": {
      "text/plain": [
       "['.ipynb_checkpoints',\n",
       " 'Class.ipynb',\n",
       " 'Exception handling.ipynb',\n",
       " 'File.ipynb',\n",
       " 'LinearRegression.ipynb',\n",
       " 'List.ipynb',\n",
       " 'OS.ipynb',\n",
       " 'classification.ipynb',\n",
       " 'dictionar-if-for.ipynb',\n",
       " 'file',\n",
       " 'regression_pls.csv',\n",
       " 'string.ipynb']"
      ]
     },
     "execution_count": 12,
     "metadata": {},
     "output_type": "execute_result"
    }
   ],
   "source": [
    "lists.sort()\n",
    "lists"
   ]
  },
  {
   "cell_type": "markdown",
   "id": "c5155452",
   "metadata": {},
   "source": [
    "# 絶対パスの取得"
   ]
  },
  {
   "cell_type": "code",
   "execution_count": 13,
   "id": "10f29125",
   "metadata": {},
   "outputs": [
    {
     "data": {
      "text/plain": [
       "'/root/src/regression_pls.csv'"
      ]
     },
     "execution_count": 13,
     "metadata": {},
     "output_type": "execute_result"
    }
   ],
   "source": [
    "os.path.abspath('regression_pls.csv')"
   ]
  },
  {
   "cell_type": "markdown",
   "id": "b659f5f3",
   "metadata": {},
   "source": [
    "# ファイルやディレクトリの存在確認"
   ]
  },
  {
   "cell_type": "code",
   "execution_count": 14,
   "id": "2d8970cc",
   "metadata": {},
   "outputs": [
    {
     "data": {
      "text/plain": [
       "True"
      ]
     },
     "execution_count": 14,
     "metadata": {},
     "output_type": "execute_result"
    }
   ],
   "source": [
    "os.path.exists('regression_pls.csv')"
   ]
  },
  {
   "cell_type": "code",
   "execution_count": 15,
   "id": "36f7d362",
   "metadata": {},
   "outputs": [
    {
     "data": {
      "text/plain": [
       "True"
      ]
     },
     "execution_count": 15,
     "metadata": {},
     "output_type": "execute_result"
    }
   ],
   "source": [
    "os.path.exists('/root/src/regression_pls.csv')"
   ]
  },
  {
   "cell_type": "code",
   "execution_count": 17,
   "id": "2a65f60c",
   "metadata": {},
   "outputs": [
    {
     "data": {
      "text/plain": [
       "False"
      ]
     },
     "execution_count": 17,
     "metadata": {},
     "output_type": "execute_result"
    }
   ],
   "source": [
    "os.path.exists('hoge.csv')"
   ]
  },
  {
   "cell_type": "code",
   "execution_count": 18,
   "id": "6619b6cd",
   "metadata": {},
   "outputs": [
    {
     "data": {
      "text/plain": [
       "True"
      ]
     },
     "execution_count": 18,
     "metadata": {},
     "output_type": "execute_result"
    }
   ],
   "source": [
    "# ディレクトリも同様に確認できる\n",
    "os.path.exists('/root/src')"
   ]
  },
  {
   "cell_type": "markdown",
   "id": "52bb2ac9",
   "metadata": {},
   "source": [
    "# ディレクトリの存在確認"
   ]
  },
  {
   "cell_type": "code",
   "execution_count": 19,
   "id": "9e0b490c",
   "metadata": {},
   "outputs": [
    {
     "data": {
      "text/plain": [
       "True"
      ]
     },
     "execution_count": 19,
     "metadata": {},
     "output_type": "execute_result"
    }
   ],
   "source": [
    "# この書き方も可能\n",
    "os.path.isdir('/root/src')"
   ]
  },
  {
   "cell_type": "code",
   "execution_count": 21,
   "id": "9ed5a271",
   "metadata": {},
   "outputs": [
    {
     "data": {
      "text/plain": [
       "False"
      ]
     },
     "execution_count": 21,
     "metadata": {},
     "output_type": "execute_result"
    }
   ],
   "source": [
    "os.path.isdir('/root/hoge')"
   ]
  },
  {
   "cell_type": "markdown",
   "id": "02d467e4",
   "metadata": {},
   "source": [
    "# ファイルの存在確認"
   ]
  },
  {
   "cell_type": "code",
   "execution_count": 22,
   "id": "a6d6dfb1",
   "metadata": {},
   "outputs": [
    {
     "data": {
      "text/plain": [
       "True"
      ]
     },
     "execution_count": 22,
     "metadata": {},
     "output_type": "execute_result"
    }
   ],
   "source": [
    "os.path.isfile('/root/src/regression_pls.csv')"
   ]
  },
  {
   "cell_type": "code",
   "execution_count": 23,
   "id": "4a662dbb",
   "metadata": {},
   "outputs": [
    {
     "data": {
      "text/plain": [
       "False"
      ]
     },
     "execution_count": 23,
     "metadata": {},
     "output_type": "execute_result"
    }
   ],
   "source": [
    "os.path.isfile('/root/src/hoge.csv')"
   ]
  },
  {
   "cell_type": "markdown",
   "id": "ed8e0417",
   "metadata": {},
   "source": [
    "# パス名の結合"
   ]
  },
  {
   "cell_type": "code",
   "execution_count": 24,
   "id": "22b91635",
   "metadata": {},
   "outputs": [
    {
     "name": "stdout",
     "output_type": "stream",
     "text": [
      "./Class.ipynb\n",
      "./Exception handling.ipynb\n",
      "./File.ipynb\n",
      "./LinearRegression.ipynb\n",
      "./List.ipynb\n",
      "./OS.ipynb\n",
      "./classification.ipynb\n",
      "./dictionar-if-for.ipynb\n",
      "./regression_pls.csv\n",
      "./string.ipynb\n",
      "./.ipynb_checkpoints/Class-checkpoint.ipynb\n",
      "./.ipynb_checkpoints/Exception handling-checkpoint.ipynb\n",
      "./.ipynb_checkpoints/File-checkpoint.ipynb\n",
      "./.ipynb_checkpoints/LinearRegression-checkpoint.ipynb\n",
      "./.ipynb_checkpoints/List-checkpoint.ipynb\n",
      "./.ipynb_checkpoints/OS-checkpoint.ipynb\n",
      "./.ipynb_checkpoints/classification-checkpoint.ipynb\n",
      "./.ipynb_checkpoints/dictionar-if-for-checkpoint.ipynb\n",
      "./.ipynb_checkpoints/string-checkpoint.ipynb\n",
      "./file/sample.json\n",
      "./file/sample.txt\n"
     ]
    }
   ],
   "source": [
    "for curdir, dirs, files in os.walk('.'):\n",
    "    for file in files:\n",
    "        print(os.path.join(curdir, file))"
   ]
  },
  {
   "cell_type": "markdown",
   "id": "64ef833a",
   "metadata": {},
   "source": [
    "# ディレクトリの作成"
   ]
  },
  {
   "cell_type": "code",
   "execution_count": 31,
   "id": "1af51f33",
   "metadata": {},
   "outputs": [
    {
     "name": "stdout",
     "output_type": "stream",
     "text": [
      "False\n",
      "True\n"
     ]
    }
   ],
   "source": [
    "print(os.path.isdir('dirname'))\n",
    "os.mkdir('dirname')\n",
    "print(os.path.isdir('dirname'))"
   ]
  },
  {
   "cell_type": "code",
   "execution_count": 28,
   "id": "e6361089",
   "metadata": {},
   "outputs": [
    {
     "ename": "FileNotFoundError",
     "evalue": "[Errno 2] No such file or directory: 'hoge.txt'",
     "output_type": "error",
     "traceback": [
      "\u001b[0;31m---------------------------------------------------------------------------\u001b[0m",
      "\u001b[0;31mFileNotFoundError\u001b[0m                         Traceback (most recent call last)",
      "Input \u001b[0;32mIn [28]\u001b[0m, in \u001b[0;36m<cell line: 2>\u001b[0;34m()\u001b[0m\n\u001b[1;32m      1\u001b[0m \u001b[38;5;66;03m# ファイルの削除\u001b[39;00m\n\u001b[0;32m----> 2\u001b[0m \u001b[43mos\u001b[49m\u001b[38;5;241;43m.\u001b[39;49m\u001b[43mremove\u001b[49m\u001b[43m(\u001b[49m\u001b[38;5;124;43m'\u001b[39;49m\u001b[38;5;124;43mhoge.txt\u001b[39;49m\u001b[38;5;124;43m'\u001b[39;49m\u001b[43m)\u001b[49m\n",
      "\u001b[0;31mFileNotFoundError\u001b[0m: [Errno 2] No such file or directory: 'hoge.txt'"
     ]
    }
   ],
   "source": [
    "# ファイルの削除\n",
    "os.remove('hoge.txt')"
   ]
  },
  {
   "cell_type": "markdown",
   "id": "c4447454",
   "metadata": {},
   "source": [
    "# ディレクトリ名の変更"
   ]
  },
  {
   "cell_type": "code",
   "execution_count": 32,
   "id": "8a30d531",
   "metadata": {},
   "outputs": [
    {
     "name": "stdout",
     "output_type": "stream",
     "text": [
      "False\n",
      "True\n"
     ]
    }
   ],
   "source": [
    "os.rename('dirname', 'newname')\n",
    "print(os.path.isdir('dirname'))\n",
    "print(os.path.isdir('newname'))"
   ]
  },
  {
   "cell_type": "markdown",
   "id": "014c8064",
   "metadata": {},
   "source": [
    "# 環境変数の確認"
   ]
  },
  {
   "cell_type": "code",
   "execution_count": 34,
   "id": "5a4b0bce",
   "metadata": {},
   "outputs": [
    {
     "data": {
      "text/plain": [
       "'/usr/local/bin:/usr/local/sbin:/usr/local/bin:/usr/sbin:/usr/bin:/sbin:/bin'"
      ]
     },
     "execution_count": 34,
     "metadata": {},
     "output_type": "execute_result"
    }
   ],
   "source": [
    "os.environ['PATH']"
   ]
  },
  {
   "cell_type": "markdown",
   "id": "d82a4f80",
   "metadata": {},
   "source": [
    "# Unixコマンド"
   ]
  },
  {
   "cell_type": "code",
   "execution_count": 36,
   "id": "92939099",
   "metadata": {},
   "outputs": [
    {
     "name": "stdout",
     "output_type": "stream",
     "text": [
      ".\n",
      "..\n",
      ".ipynb_checkpoints\n",
      "Class.ipynb\n",
      "Exception handling.ipynb\n"
     ]
    },
    {
     "data": {
      "text/plain": [
       "0"
      ]
     },
     "execution_count": 36,
     "metadata": {},
     "output_type": "execute_result"
    }
   ],
   "source": [
    "# こっちもJupyterNotebookでも動く?\n",
    "os.system('ls -a | head -n 5')"
   ]
  },
  {
   "cell_type": "code",
   "execution_count": 37,
   "id": "1114a586",
   "metadata": {},
   "outputs": [
    {
     "name": "stdout",
     "output_type": "stream",
     "text": [
      ".\n",
      "..\n",
      ".ipynb_checkpoints\n",
      "Class.ipynb\n",
      "Exception handling.ipynb\n",
      "\n"
     ]
    }
   ],
   "source": [
    "# JupyterNotebookでも動く\n",
    "print(os.popen('ls -a | head -n 5').read())"
   ]
  },
  {
   "cell_type": "code",
   "execution_count": 40,
   "id": "32260a5e",
   "metadata": {},
   "outputs": [
    {
     "name": "stdout",
     "output_type": "stream",
     "text": [
      " .\t\t\t     File.ipynb\t\t      dictionar-if-for.ipynb\r\n",
      " ..\t\t\t     LinearRegression.ipynb   file\r\n",
      " .ipynb_checkpoints\t     List.ipynb\t\t      newname\r\n",
      " Class.ipynb\t\t     OS.ipynb\t\t      regression_pls.csv\r\n",
      "'Exception handling.ipynb'   classification.ipynb     string.ipynb\r\n"
     ]
    }
   ],
   "source": [
    "# !をつけて実行\n",
    "!ls -a"
   ]
  }
 ],
 "metadata": {
  "kernelspec": {
   "display_name": "Python 3 (ipykernel)",
   "language": "python",
   "name": "python3"
  },
  "language_info": {
   "codemirror_mode": {
    "name": "ipython",
    "version": 3
   },
   "file_extension": ".py",
   "mimetype": "text/x-python",
   "name": "python",
   "nbconvert_exporter": "python",
   "pygments_lexer": "ipython3",
   "version": "3.9.13"
  }
 },
 "nbformat": 4,
 "nbformat_minor": 5
}
