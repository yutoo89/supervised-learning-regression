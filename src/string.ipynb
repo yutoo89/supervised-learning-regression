{
 "cells": [
  {
   "cell_type": "markdown",
   "id": "c4093fae",
   "metadata": {},
   "source": [
    "# Jupyter Notebookのショートカット\n",
    "\n",
    "- Ctrl + M: コマンドモードにする\n",
    "- コマンドモードでM: markdownにする\n",
    "- コマンドモードでY: codeにする\n",
    "- コマンドモードでB: セルを追加\n",
    "- コマンドモードでD: セルを削除"
   ]
  },
  {
   "cell_type": "markdown",
   "id": "b88ce836",
   "metadata": {},
   "source": [
    "# インストール済みのパッケージの確認\n",
    "\n",
    "pip listでパッケージ一覧\n",
    "\n",
    "```bash\n",
    "root@f46bbd2e5764:~/src# pip list\n",
    "Package              Version\n",
    "-------------------- -----------\n",
    "anyio                3.6.1\n",
    "argon2-cffi          21.3.0\n",
    "~~\n",
    "```\n",
    "\n",
    "pip freezeでバージョン情報も表示する\n",
    "requirementment.textに書くのはここで出力したパッケージ\n",
    "\n",
    "```bash\n",
    "root@f46bbd2e5764:~/src# pip freeze\n",
    "anyio==3.6.1\n",
    "argon2-cffi==21.3.0\n",
    "argon2-cffi-bindings==21.2.0\n",
    "~~\n",
    "```\n",
    "\n",
    "jupyter notebookでは!をつけると実行できる"
   ]
  },
  {
   "cell_type": "code",
   "execution_count": 1,
   "id": "516ce509",
   "metadata": {},
   "outputs": [
    {
     "name": "stdout",
     "output_type": "stream",
     "text": [
      "Package              Version\n",
      "-------------------- -----------\n",
      "anyio                3.6.1\n",
      "argon2-cffi          21.3.0\n",
      "argon2-cffi-bindings 21.2.0\n",
      "ERROR: Pipe to stdout was broken\n",
      "Exception ignored in: <_io.TextIOWrapper name='<stdout>' mode='w' encoding='utf-8'>\n",
      "BrokenPipeError: [Errno 32] Broken pipe\n"
     ]
    }
   ],
   "source": [
    "!pip list | head -n 5"
   ]
  },
  {
   "cell_type": "markdown",
   "id": "d03820ca",
   "metadata": {},
   "source": [
    "# 文字列を代入"
   ]
  },
  {
   "cell_type": "code",
   "execution_count": 2,
   "id": "de2add44",
   "metadata": {},
   "outputs": [
    {
     "data": {
      "text/plain": [
       "'私はほげです。出身は神奈川です。'"
      ]
     },
     "execution_count": 2,
     "metadata": {},
     "output_type": "execute_result"
    }
   ],
   "source": [
    "# format()\n",
    "name = 'ほげ'\n",
    "birthplace = '神奈川'\n",
    "\n",
    "'私は{}です。出身は{}です。'.format(name, birthplace)"
   ]
  },
  {
   "cell_type": "code",
   "execution_count": 3,
   "id": "49ffc1bd",
   "metadata": {},
   "outputs": [
    {
     "data": {
      "text/plain": [
       "'私はほげです。出身は神奈川です。'"
      ]
     },
     "execution_count": 3,
     "metadata": {},
     "output_type": "execute_result"
    }
   ],
   "source": [
    "# f-strings\n",
    "f'私は{name}です。出身は{birthplace}です。'"
   ]
  },
  {
   "cell_type": "markdown",
   "id": "bdb870ac",
   "metadata": {},
   "source": [
    "# エスケープシーケンス"
   ]
  },
  {
   "cell_type": "code",
   "execution_count": 4,
   "id": "cca537ab",
   "metadata": {},
   "outputs": [
    {
     "name": "stdout",
     "output_type": "stream",
     "text": [
      "いつもの帰り道とは違うルートで帰ってみようかな。\n",
      "迷子にならないか心配だけど。\n"
     ]
    }
   ],
   "source": [
    "print('いつもの帰り道とは違うルートで帰ってみようかな。\\n迷子にならないか心配だけど。')"
   ]
  },
  {
   "cell_type": "markdown",
   "id": "9c5f2459",
   "metadata": {},
   "source": [
    "# 書式化\n",
    "\n",
    "16.0を下記の書式で表示する\n",
    "\n",
    "- 符号付き10進数\n",
    "- 符号付き16進数\n",
    "- 10進数浮動小数点"
   ]
  },
  {
   "cell_type": "code",
   "execution_count": 5,
   "id": "e9a5fed0",
   "metadata": {},
   "outputs": [
    {
     "name": "stdout",
     "output_type": "stream",
     "text": [
      "10進数=16, 16進数=10, 10進浮動小数点=16.000000\n"
     ]
    }
   ],
   "source": [
    "# %を使う書き方を書式化演算子という\n",
    "print('10進数=%d, 16進数=%x, 10進浮動小数点=%f' % (16, 16, 16))"
   ]
  },
  {
   "cell_type": "markdown",
   "id": "718d581f",
   "metadata": {},
   "source": [
    "# 大文字小文字の変換"
   ]
  },
  {
   "cell_type": "code",
   "execution_count": 6,
   "id": "f0e85869",
   "metadata": {},
   "outputs": [
    {
     "data": {
      "text/plain": [
       "'HELLO'"
      ]
     },
     "execution_count": 6,
     "metadata": {},
     "output_type": "execute_result"
    }
   ],
   "source": [
    "'hello'.upper()"
   ]
  },
  {
   "cell_type": "code",
   "execution_count": 7,
   "id": "b087b03e",
   "metadata": {},
   "outputs": [
    {
     "data": {
      "text/plain": [
       "'world'"
      ]
     },
     "execution_count": 7,
     "metadata": {},
     "output_type": "execute_result"
    }
   ],
   "source": [
    "'WORLD'.lower()"
   ]
  },
  {
   "cell_type": "markdown",
   "id": "c76fb201",
   "metadata": {},
   "source": [
    "# 文字列の分割\n",
    "改行部分で分割"
   ]
  },
  {
   "cell_type": "code",
   "execution_count": 8,
   "id": "fbe76a61",
   "metadata": {},
   "outputs": [
    {
     "name": "stdout",
     "output_type": "stream",
     "text": [
      "こんにちは。\n",
      "私はロボットです。\n"
     ]
    }
   ],
   "source": [
    "message = 'こんにちは。\\n私はロボットです。'\n",
    "print(message)"
   ]
  },
  {
   "cell_type": "code",
   "execution_count": 9,
   "id": "62677f46",
   "metadata": {},
   "outputs": [
    {
     "data": {
      "text/plain": [
       "['こんにちは。', '私はロボットです。']"
      ]
     },
     "execution_count": 9,
     "metadata": {},
     "output_type": "execute_result"
    }
   ],
   "source": [
    "messages= message.split('\\n')\n",
    "messages"
   ]
  },
  {
   "cell_type": "markdown",
   "id": "fc705a76",
   "metadata": {},
   "source": [
    "# 文字列の結合\n",
    "配列に入っている文字列の結合"
   ]
  },
  {
   "cell_type": "code",
   "execution_count": 10,
   "id": "771ee8c8",
   "metadata": {},
   "outputs": [
    {
     "data": {
      "text/plain": [
       "'こんにちは。私はロボットです。'"
      ]
     },
     "execution_count": 10,
     "metadata": {},
     "output_type": "execute_result"
    }
   ],
   "source": [
    "''.join(messages)"
   ]
  },
  {
   "cell_type": "code",
   "execution_count": 11,
   "id": "2c3ebc15",
   "metadata": {},
   "outputs": [
    {
     "data": {
      "text/plain": [
       "'こんにちは。\\n私はロボットです。'"
      ]
     },
     "execution_count": 11,
     "metadata": {},
     "output_type": "execute_result"
    }
   ],
   "source": [
    "'\\n'.join(messages)"
   ]
  },
  {
   "cell_type": "code",
   "execution_count": 12,
   "id": "74221bcb",
   "metadata": {},
   "outputs": [
    {
     "name": "stdout",
     "output_type": "stream",
     "text": [
      "こんにちは。\n",
      "私はロボットです。\n"
     ]
    }
   ],
   "source": [
    "print('\\n'.join(messages))"
   ]
  },
  {
   "cell_type": "markdown",
   "id": "1418576a",
   "metadata": {},
   "source": [
    "# 空白除去\n",
    "文字列前後の空白文字の削除"
   ]
  },
  {
   "cell_type": "code",
   "execution_count": 13,
   "id": "b2bcf548",
   "metadata": {},
   "outputs": [
    {
     "data": {
      "text/plain": [
       "'今日は晴れですね'"
      ]
     },
     "execution_count": 13,
     "metadata": {},
     "output_type": "execute_result"
    }
   ],
   "source": [
    "message = '   今日は晴れですね　　　　　'\n",
    "message.strip()"
   ]
  },
  {
   "cell_type": "markdown",
   "id": "6e077b81",
   "metadata": {},
   "source": [
    "# 文字列の置換"
   ]
  },
  {
   "cell_type": "code",
   "execution_count": 14,
   "id": "e49b4a31",
   "metadata": {},
   "outputs": [
    {
     "data": {
      "text/plain": [
       "'今日は雨ですね'"
      ]
     },
     "execution_count": 14,
     "metadata": {},
     "output_type": "execute_result"
    }
   ],
   "source": [
    "message = '今日は晴れですね'\n",
    "message.replace('晴れ', '雨')"
   ]
  },
  {
   "cell_type": "markdown",
   "id": "00670851",
   "metadata": {},
   "source": [
    "# 文字列の検索"
   ]
  },
  {
   "cell_type": "code",
   "execution_count": 15,
   "id": "f74abd23",
   "metadata": {},
   "outputs": [
    {
     "data": {
      "text/plain": [
       "6"
      ]
     },
     "execution_count": 15,
     "metadata": {},
     "output_type": "execute_result"
    }
   ],
   "source": [
    "message = '今日はとても夜空が綺麗だ。'\n",
    "message.find('夜空')"
   ]
  },
  {
   "cell_type": "markdown",
   "id": "6e5eb8a4",
   "metadata": {},
   "source": [
    "# 型変換"
   ]
  },
  {
   "cell_type": "code",
   "execution_count": 16,
   "id": "5f394c23",
   "metadata": {},
   "outputs": [
    {
     "data": {
      "text/plain": [
       "'1'"
      ]
     },
     "execution_count": 16,
     "metadata": {},
     "output_type": "execute_result"
    }
   ],
   "source": [
    "x = 1\n",
    "str(x)"
   ]
  },
  {
   "cell_type": "code",
   "execution_count": 17,
   "id": "d5a19f06",
   "metadata": {},
   "outputs": [
    {
     "data": {
      "text/plain": [
       "'1.52'"
      ]
     },
     "execution_count": 17,
     "metadata": {},
     "output_type": "execute_result"
    }
   ],
   "source": [
    "x = 1.52\n",
    "str(x)"
   ]
  },
  {
   "cell_type": "code",
   "execution_count": 18,
   "id": "8bff0b7f",
   "metadata": {},
   "outputs": [
    {
     "data": {
      "text/plain": [
       "'[1, 2, 3]'"
      ]
     },
     "execution_count": 18,
     "metadata": {},
     "output_type": "execute_result"
    }
   ],
   "source": [
    "x = [1, 2, 3]\n",
    "str(x)"
   ]
  },
  {
   "cell_type": "code",
   "execution_count": 19,
   "id": "8fac3cf5",
   "metadata": {},
   "outputs": [
    {
     "data": {
      "text/plain": [
       "\"{'name': 'john', 'age': 14}\""
      ]
     },
     "execution_count": 19,
     "metadata": {},
     "output_type": "execute_result"
    }
   ],
   "source": [
    "x = dict(name='john', age=14)\n",
    "str(x)"
   ]
  },
  {
   "cell_type": "markdown",
   "id": "a97a36af",
   "metadata": {},
   "source": [
    "# 包含関係"
   ]
  },
  {
   "cell_type": "code",
   "execution_count": 20,
   "id": "86a0b5cc",
   "metadata": {},
   "outputs": [
    {
     "data": {
      "text/plain": [
       "True"
      ]
     },
     "execution_count": 20,
     "metadata": {},
     "output_type": "execute_result"
    }
   ],
   "source": [
    "a, b = 'sba', 'gasba'\n",
    "a in b"
   ]
  },
  {
   "cell_type": "code",
   "execution_count": 21,
   "id": "7f4c364d",
   "metadata": {},
   "outputs": [
    {
     "data": {
      "text/plain": [
       "False"
      ]
     },
     "execution_count": 21,
     "metadata": {},
     "output_type": "execute_result"
    }
   ],
   "source": [
    "b in a"
   ]
  }
 ],
 "metadata": {
  "kernelspec": {
   "display_name": "Python 3 (ipykernel)",
   "language": "python",
   "name": "python3"
  },
  "language_info": {
   "codemirror_mode": {
    "name": "ipython",
    "version": 3
   },
   "file_extension": ".py",
   "mimetype": "text/x-python",
   "name": "python",
   "nbconvert_exporter": "python",
   "pygments_lexer": "ipython3",
   "version": "3.9.13"
  }
 },
 "nbformat": 4,
 "nbformat_minor": 5
}
