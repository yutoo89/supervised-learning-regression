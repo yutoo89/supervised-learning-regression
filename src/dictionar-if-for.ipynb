{
 "cells": [
  {
   "cell_type": "markdown",
   "id": "0fd09678",
   "metadata": {},
   "source": [
    "# 要素の削除"
   ]
  },
  {
   "cell_type": "code",
   "execution_count": 2,
   "id": "f2fc28e0",
   "metadata": {},
   "outputs": [
    {
     "data": {
      "text/plain": [
       "{'A': '今西', 'B': '航平', 'C': '男性', 'D': '東京都', 'E': '海外旅行'}"
      ]
     },
     "execution_count": 2,
     "metadata": {},
     "output_type": "execute_result"
    }
   ],
   "source": [
    "dictionary = {\n",
    "    'A': '今西',\n",
    "    'B': '航平',\n",
    "    'C': '男性',\n",
    "    'D': '東京都',\n",
    "    'E': '海外旅行'\n",
    "}\n",
    "dictionary"
   ]
  },
  {
   "cell_type": "code",
   "execution_count": 3,
   "id": "0d8d307f",
   "metadata": {},
   "outputs": [
    {
     "data": {
      "text/plain": [
       "'今西'"
      ]
     },
     "execution_count": 3,
     "metadata": {},
     "output_type": "execute_result"
    }
   ],
   "source": [
    "dictionary.pop('A')"
   ]
  },
  {
   "cell_type": "code",
   "execution_count": 6,
   "id": "b505e5b0",
   "metadata": {},
   "outputs": [
    {
     "data": {
      "text/plain": [
       "{'B': '航平', 'C': '男性', 'D': '東京都', 'E': '海外旅行'}"
      ]
     },
     "execution_count": 6,
     "metadata": {},
     "output_type": "execute_result"
    }
   ],
   "source": [
    "dictionary"
   ]
  },
  {
   "cell_type": "code",
   "execution_count": 7,
   "id": "58f8a680",
   "metadata": {},
   "outputs": [],
   "source": [
    "# すべての要素の削除\n",
    "dictionary.clear()"
   ]
  },
  {
   "cell_type": "code",
   "execution_count": 8,
   "id": "b12e1f3d",
   "metadata": {},
   "outputs": [
    {
     "data": {
      "text/plain": [
       "{}"
      ]
     },
     "execution_count": 8,
     "metadata": {},
     "output_type": "execute_result"
    }
   ],
   "source": [
    "dictionary"
   ]
  },
  {
   "cell_type": "markdown",
   "id": "689d38ab",
   "metadata": {},
   "source": [
    "# 情報の取得"
   ]
  },
  {
   "cell_type": "code",
   "execution_count": 10,
   "id": "37a46081",
   "metadata": {},
   "outputs": [
    {
     "data": {
      "text/plain": [
       "dict_keys(['A', 'B', 'C', 'D', 'E'])"
      ]
     },
     "execution_count": 10,
     "metadata": {},
     "output_type": "execute_result"
    }
   ],
   "source": [
    "dictionary = {\n",
    "    'A': '今西',\n",
    "    'B': '航平',\n",
    "    'C': '男性',\n",
    "    'D': '東京都',\n",
    "    'E': '海外旅行'\n",
    "}\n",
    "dictionary.keys()"
   ]
  },
  {
   "cell_type": "code",
   "execution_count": 11,
   "id": "de2180c4",
   "metadata": {},
   "outputs": [
    {
     "data": {
      "text/plain": [
       "dict_values(['今西', '航平', '男性', '東京都', '海外旅行'])"
      ]
     },
     "execution_count": 11,
     "metadata": {},
     "output_type": "execute_result"
    }
   ],
   "source": [
    "dictionary.values()"
   ]
  },
  {
   "cell_type": "code",
   "execution_count": 13,
   "id": "2cee0409",
   "metadata": {},
   "outputs": [
    {
     "data": {
      "text/plain": [
       "True"
      ]
     },
     "execution_count": 13,
     "metadata": {},
     "output_type": "execute_result"
    }
   ],
   "source": [
    "# 辞書に男性という値があるか\n",
    "'男性' in dictionary.values()"
   ]
  },
  {
   "cell_type": "code",
   "execution_count": 14,
   "id": "2a78b14c",
   "metadata": {},
   "outputs": [
    {
     "name": "stdout",
     "output_type": "stream",
     "text": [
      "key: A, value: 今西\n",
      "key: B, value: 航平\n",
      "key: C, value: 男性\n",
      "key: D, value: 東京都\n",
      "key: E, value: 海外旅行\n"
     ]
    }
   ],
   "source": [
    "for key, value in dictionary.items():\n",
    "    print(f'key: {key}, value: {value}')"
   ]
  },
  {
   "cell_type": "markdown",
   "id": "9c325036",
   "metadata": {},
   "source": [
    "# 辞書内の要素検索"
   ]
  },
  {
   "cell_type": "code",
   "execution_count": 16,
   "id": "9fdeb655",
   "metadata": {},
   "outputs": [
    {
     "data": {
      "text/plain": [
       "'男性'"
      ]
     },
     "execution_count": 16,
     "metadata": {},
     "output_type": "execute_result"
    }
   ],
   "source": [
    "dictionary = {\n",
    "    'A': '今西',\n",
    "    'B': '航平',\n",
    "    'C': '男性',\n",
    "    'D': '東京都',\n",
    "    'E': '海外旅行'\n",
    "}\n",
    "dictionary['C']"
   ]
  },
  {
   "cell_type": "code",
   "execution_count": 17,
   "id": "8a4d2e24",
   "metadata": {},
   "outputs": [
    {
     "data": {
      "text/plain": [
       "'男性'"
      ]
     },
     "execution_count": 17,
     "metadata": {},
     "output_type": "execute_result"
    }
   ],
   "source": [
    "dictionary.get('C')"
   ]
  },
  {
   "cell_type": "code",
   "execution_count": 18,
   "id": "be373313",
   "metadata": {},
   "outputs": [
    {
     "ename": "KeyError",
     "evalue": "'F'",
     "output_type": "error",
     "traceback": [
      "\u001b[0;31m---------------------------------------------------------------------------\u001b[0m",
      "\u001b[0;31mKeyError\u001b[0m                                  Traceback (most recent call last)",
      "Input \u001b[0;32mIn [18]\u001b[0m, in \u001b[0;36m<cell line: 1>\u001b[0;34m()\u001b[0m\n\u001b[0;32m----> 1\u001b[0m \u001b[43mdictionary\u001b[49m\u001b[43m[\u001b[49m\u001b[38;5;124;43m'\u001b[39;49m\u001b[38;5;124;43mF\u001b[39;49m\u001b[38;5;124;43m'\u001b[39;49m\u001b[43m]\u001b[49m\n",
      "\u001b[0;31mKeyError\u001b[0m: 'F'"
     ]
    }
   ],
   "source": [
    "dictionary['F']"
   ]
  },
  {
   "cell_type": "code",
   "execution_count": 20,
   "id": "bffea3b2",
   "metadata": {},
   "outputs": [],
   "source": [
    "# getメソッドで取得するとエラーが出ない\n",
    "dictionary.get('F')"
   ]
  },
  {
   "cell_type": "markdown",
   "id": "6bd4ee41",
   "metadata": {},
   "source": [
    "# if分を使って条件分岐"
   ]
  },
  {
   "cell_type": "code",
   "execution_count": 21,
   "id": "6db597a9",
   "metadata": {},
   "outputs": [
    {
     "name": "stdout",
     "output_type": "stream",
     "text": [
      "正の値です\n"
     ]
    }
   ],
   "source": [
    "num = 1\n",
    "if num > 0:\n",
    "    print('正の値です')\n",
    "elif num == 0:\n",
    "    print('0です')\n",
    "else:\n",
    "    print('負の値です')"
   ]
  },
  {
   "cell_type": "markdown",
   "id": "1d9b405d",
   "metadata": {},
   "source": [
    "# 論理演算子"
   ]
  },
  {
   "cell_type": "code",
   "execution_count": 24,
   "id": "a4130877",
   "metadata": {},
   "outputs": [
    {
     "name": "stdout",
     "output_type": "stream",
     "text": [
      "それ以外\n"
     ]
    }
   ],
   "source": [
    "a = 3\n",
    "if 0 <= a < 10 and a % 2 == 0:\n",
    "    print('一桁の偶数です')\n",
    "elif 1 < 0 and 1 % 2 == 1:\n",
    "    print('負の奇数です')\n",
    "else:\n",
    "    print('それ以外')"
   ]
  },
  {
   "cell_type": "markdown",
   "id": "f9417ead",
   "metadata": {},
   "source": [
    "# リストの要素を表示"
   ]
  },
  {
   "cell_type": "code",
   "execution_count": 25,
   "id": "bf415b5c",
   "metadata": {},
   "outputs": [
    {
     "name": "stdout",
     "output_type": "stream",
     "text": [
      "hoge\n",
      "fuga\n"
     ]
    }
   ],
   "source": [
    "names = ['hoge', 'fuga']\n",
    "for name in names:\n",
    "    print(name)"
   ]
  },
  {
   "cell_type": "markdown",
   "id": "37b9678e",
   "metadata": {},
   "source": [
    "# range関数"
   ]
  },
  {
   "cell_type": "code",
   "execution_count": 26,
   "id": "67df6bff",
   "metadata": {},
   "outputs": [
    {
     "name": "stdout",
     "output_type": "stream",
     "text": [
      "0\n",
      "1\n",
      "2\n",
      "3\n",
      "4\n",
      "5\n",
      "6\n",
      "7\n",
      "8\n",
      "9\n"
     ]
    }
   ],
   "source": [
    "for i in range(10):\n",
    "    print(i)"
   ]
  },
  {
   "cell_type": "code",
   "execution_count": 28,
   "id": "ca3f755d",
   "metadata": {},
   "outputs": [
    {
     "name": "stdout",
     "output_type": "stream",
     "text": [
      "5\n",
      "6\n",
      "7\n",
      "8\n",
      "9\n"
     ]
    }
   ],
   "source": [
    "for i in range(5, 10):\n",
    "    print(i)"
   ]
  },
  {
   "cell_type": "markdown",
   "id": "edd62a00",
   "metadata": {},
   "source": [
    "# ループを抜ける"
   ]
  },
  {
   "cell_type": "code",
   "execution_count": 29,
   "id": "056289c4",
   "metadata": {},
   "outputs": [
    {
     "name": "stdout",
     "output_type": "stream",
     "text": [
      "0\n",
      "1\n",
      "2\n",
      "3\n",
      "4\n",
      "5\n",
      "終了\n"
     ]
    }
   ],
   "source": [
    "for i in range(10):\n",
    "    if i == 6:\n",
    "        print('終了')\n",
    "        break\n",
    "    print(i)"
   ]
  },
  {
   "cell_type": "code",
   "execution_count": 30,
   "id": "843c091e",
   "metadata": {},
   "outputs": [
    {
     "name": "stdout",
     "output_type": "stream",
     "text": [
      "3の倍数: 0\n",
      "0\n",
      "1\n",
      "2\n",
      "3の倍数: 3\n",
      "3\n",
      "4\n",
      "5\n",
      "3の倍数: 6\n",
      "6\n",
      "7\n",
      "8\n",
      "3の倍数: 9\n",
      "9\n"
     ]
    }
   ],
   "source": [
    "for i in range(10):\n",
    "    if i % 3 == 0:\n",
    "        print(f'3の倍数: {i}')\n",
    "    print(i)"
   ]
  },
  {
   "cell_type": "markdown",
   "id": "45ee953e",
   "metadata": {},
   "source": [
    "# 複数のリストを同時に処理"
   ]
  },
  {
   "cell_type": "code",
   "execution_count": 33,
   "id": "edeeb4a0",
   "metadata": {},
   "outputs": [
    {
     "name": "stdout",
     "output_type": "stream",
     "text": [
      "加藤悠一\n",
      "佐藤太郎\n",
      "田中花子\n"
     ]
    }
   ],
   "source": [
    "lasts = ['加藤', '佐藤', '田中']\n",
    "firsts = ['悠一', '太郎', '花子']\n",
    "\n",
    "for last, first in zip(lasts, firsts):\n",
    "    print(last + first)"
   ]
  },
  {
   "cell_type": "markdown",
   "id": "7f1fa5f3",
   "metadata": {},
   "source": [
    "# 要素と同時にインデックス情報の取得"
   ]
  },
  {
   "cell_type": "code",
   "execution_count": 34,
   "id": "47b535a3",
   "metadata": {},
   "outputs": [
    {
     "name": "stdout",
     "output_type": "stream",
     "text": [
      "0番目の加藤です\n",
      "1番目の佐藤です\n",
      "2番目の田中です\n"
     ]
    }
   ],
   "source": [
    "lasts = ['加藤', '佐藤', '田中']\n",
    "for i, last in enumerate(lasts):\n",
    "    print(f'{i}番目の{last}です')"
   ]
  },
  {
   "cell_type": "markdown",
   "id": "9f9b1975",
   "metadata": {},
   "source": [
    "# 内包表記\n",
    "リストの初期化を一行で簡潔に書ける"
   ]
  },
  {
   "cell_type": "code",
   "execution_count": 35,
   "id": "a06ce9e3",
   "metadata": {},
   "outputs": [
    {
     "data": {
      "text/plain": [
       "[0, 2, 4, 6, 8]"
      ]
     },
     "execution_count": 35,
     "metadata": {},
     "output_type": "execute_result"
    }
   ],
   "source": [
    "nums = []\n",
    "for i in range(5):\n",
    "    nums.append(i * 2)\n",
    "nums"
   ]
  },
  {
   "cell_type": "code",
   "execution_count": 36,
   "id": "9eecd339",
   "metadata": {},
   "outputs": [
    {
     "data": {
      "text/plain": [
       "[0, 2, 4, 6, 8]"
      ]
     },
     "execution_count": 36,
     "metadata": {},
     "output_type": "execute_result"
    }
   ],
   "source": [
    "numbers = [i * 2 for i in range(5)]\n",
    "numbers"
   ]
  }
 ],
 "metadata": {
  "kernelspec": {
   "display_name": "Python 3 (ipykernel)",
   "language": "python",
   "name": "python3"
  },
  "language_info": {
   "codemirror_mode": {
    "name": "ipython",
    "version": 3
   },
   "file_extension": ".py",
   "mimetype": "text/x-python",
   "name": "python",
   "nbconvert_exporter": "python",
   "pygments_lexer": "ipython3",
   "version": "3.9.13"
  }
 },
 "nbformat": 4,
 "nbformat_minor": 5
}
