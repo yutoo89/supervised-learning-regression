{
 "cells": [
  {
   "cell_type": "markdown",
   "id": "ca0a835a",
   "metadata": {},
   "source": [
    "# 現在の日時取得"
   ]
  },
  {
   "cell_type": "code",
   "execution_count": 1,
   "id": "ca5e1496",
   "metadata": {},
   "outputs": [],
   "source": [
    "import datetime"
   ]
  },
  {
   "cell_type": "code",
   "execution_count": 2,
   "id": "b23310d6",
   "metadata": {},
   "outputs": [
    {
     "data": {
      "text/plain": [
       "datetime.datetime(2022, 5, 22, 7, 51, 31, 670358)"
      ]
     },
     "execution_count": 2,
     "metadata": {},
     "output_type": "execute_result"
    }
   ],
   "source": [
    "# 日時\n",
    "datetime.datetime.now()"
   ]
  },
  {
   "cell_type": "code",
   "execution_count": 3,
   "id": "ec0f80be",
   "metadata": {},
   "outputs": [],
   "source": [
    "from datetime import datetime as dt"
   ]
  },
  {
   "cell_type": "code",
   "execution_count": 4,
   "id": "f48bbbb5",
   "metadata": {},
   "outputs": [
    {
     "data": {
      "text/plain": [
       "datetime.datetime(2022, 5, 22, 7, 51, 31, 699072)"
      ]
     },
     "execution_count": 4,
     "metadata": {},
     "output_type": "execute_result"
    }
   ],
   "source": [
    "dt.now()"
   ]
  },
  {
   "cell_type": "code",
   "execution_count": 5,
   "id": "7a5e2a24",
   "metadata": {},
   "outputs": [
    {
     "data": {
      "text/plain": [
       "datetime.date(2022, 5, 22)"
      ]
     },
     "execution_count": 5,
     "metadata": {},
     "output_type": "execute_result"
    }
   ],
   "source": [
    "# 日付\n",
    "datetime.date.today()"
   ]
  },
  {
   "cell_type": "markdown",
   "id": "990476d6",
   "metadata": {},
   "source": [
    "# 任意の日付を取得"
   ]
  },
  {
   "cell_type": "code",
   "execution_count": 6,
   "id": "129d4e29",
   "metadata": {},
   "outputs": [
    {
     "data": {
      "text/plain": [
       "datetime.date(2021, 1, 1)"
      ]
     },
     "execution_count": 6,
     "metadata": {},
     "output_type": "execute_result"
    }
   ],
   "source": [
    "datetime.date(2021, 1, 1)"
   ]
  },
  {
   "cell_type": "markdown",
   "id": "5148ede5",
   "metadata": {},
   "source": [
    "# 日付内の各情報"
   ]
  },
  {
   "cell_type": "code",
   "execution_count": 7,
   "id": "261e8dd2",
   "metadata": {},
   "outputs": [],
   "source": [
    "now = dt.now()"
   ]
  },
  {
   "cell_type": "code",
   "execution_count": 8,
   "id": "78a9f7a3",
   "metadata": {},
   "outputs": [
    {
     "data": {
      "text/plain": [
       "2022"
      ]
     },
     "execution_count": 8,
     "metadata": {},
     "output_type": "execute_result"
    }
   ],
   "source": [
    "now.year"
   ]
  },
  {
   "cell_type": "code",
   "execution_count": 9,
   "id": "d8e1ed7c",
   "metadata": {},
   "outputs": [
    {
     "data": {
      "text/plain": [
       "5"
      ]
     },
     "execution_count": 9,
     "metadata": {},
     "output_type": "execute_result"
    }
   ],
   "source": [
    "now.month"
   ]
  },
  {
   "cell_type": "code",
   "execution_count": 10,
   "id": "6986cb98",
   "metadata": {},
   "outputs": [
    {
     "data": {
      "text/plain": [
       "22"
      ]
     },
     "execution_count": 10,
     "metadata": {},
     "output_type": "execute_result"
    }
   ],
   "source": [
    "now.day"
   ]
  },
  {
   "cell_type": "code",
   "execution_count": 11,
   "id": "c0e98ce0",
   "metadata": {},
   "outputs": [
    {
     "data": {
      "text/plain": [
       "7"
      ]
     },
     "execution_count": 11,
     "metadata": {},
     "output_type": "execute_result"
    }
   ],
   "source": [
    "now.hour"
   ]
  },
  {
   "cell_type": "code",
   "execution_count": 12,
   "id": "11821c38",
   "metadata": {},
   "outputs": [
    {
     "data": {
      "text/plain": [
       "51"
      ]
     },
     "execution_count": 12,
     "metadata": {},
     "output_type": "execute_result"
    }
   ],
   "source": [
    "now.minute"
   ]
  },
  {
   "cell_type": "code",
   "execution_count": 13,
   "id": "24b46fdd",
   "metadata": {},
   "outputs": [
    {
     "data": {
      "text/plain": [
       "'Sunday'"
      ]
     },
     "execution_count": 13,
     "metadata": {},
     "output_type": "execute_result"
    }
   ],
   "source": [
    "# 曜日\n",
    "now.strftime('%A')"
   ]
  },
  {
   "cell_type": "markdown",
   "id": "befd51e6",
   "metadata": {},
   "source": [
    "# 日付計算"
   ]
  },
  {
   "cell_type": "code",
   "execution_count": 14,
   "id": "efec2a3e",
   "metadata": {},
   "outputs": [],
   "source": [
    "from datetime import timedelta"
   ]
  },
  {
   "cell_type": "code",
   "execution_count": 16,
   "id": "8ecc0815",
   "metadata": {},
   "outputs": [
    {
     "data": {
      "text/plain": [
       "datetime.date(2022, 5, 22)"
      ]
     },
     "execution_count": 16,
     "metadata": {},
     "output_type": "execute_result"
    }
   ],
   "source": [
    "today = datetime.date.today()\n",
    "today"
   ]
  },
  {
   "cell_type": "code",
   "execution_count": 17,
   "id": "c9a2bf16",
   "metadata": {},
   "outputs": [
    {
     "data": {
      "text/plain": [
       "datetime.date(2022, 5, 20)"
      ]
     },
     "execution_count": 17,
     "metadata": {},
     "output_type": "execute_result"
    }
   ],
   "source": [
    "# 今日の日付の2日前を計算する\n",
    "today - timedelta(days=2)"
   ]
  },
  {
   "cell_type": "code",
   "execution_count": 19,
   "id": "7d1dbb6d",
   "metadata": {},
   "outputs": [
    {
     "data": {
      "text/plain": [
       "datetime.date(2022, 6, 5)"
      ]
     },
     "execution_count": 19,
     "metadata": {},
     "output_type": "execute_result"
    }
   ],
   "source": [
    "# 今日の日付の2週間後を計算する\n",
    "today + timedelta(weeks=2)"
   ]
  },
  {
   "cell_type": "markdown",
   "id": "9f47e169",
   "metadata": {},
   "source": [
    "# 日付比較"
   ]
  },
  {
   "cell_type": "code",
   "execution_count": 21,
   "id": "e37c36a1",
   "metadata": {},
   "outputs": [
    {
     "data": {
      "text/plain": [
       "True"
      ]
     },
     "execution_count": 21,
     "metadata": {},
     "output_type": "execute_result"
    }
   ],
   "source": [
    "datetime.date(2020, 1, 1) < datetime.date(2021, 1, 1)"
   ]
  },
  {
   "cell_type": "code",
   "execution_count": 23,
   "id": "88c77f38",
   "metadata": {},
   "outputs": [
    {
     "data": {
      "text/plain": [
       "False"
      ]
     },
     "execution_count": 23,
     "metadata": {},
     "output_type": "execute_result"
    }
   ],
   "source": [
    "datetime.date(2020, 1, 1) > datetime.date(2021, 1, 1)"
   ]
  },
  {
   "cell_type": "markdown",
   "id": "83309e0a",
   "metadata": {},
   "source": [
    "# フォーマット変換"
   ]
  },
  {
   "cell_type": "code",
   "execution_count": 27,
   "id": "96825ab1",
   "metadata": {},
   "outputs": [
    {
     "name": "stdout",
     "output_type": "stream",
     "text": [
      "2022/05/22\n",
      "2022年05月22日\n"
     ]
    }
   ],
   "source": [
    "today = datetime.date.today()\n",
    "print(today.strftime('%Y/%m/%d'))\n",
    "print(today.strftime('%Y年%m月%d日'))"
   ]
  }
 ],
 "metadata": {
  "kernelspec": {
   "display_name": "Python 3 (ipykernel)",
   "language": "python",
   "name": "python3"
  },
  "language_info": {
   "codemirror_mode": {
    "name": "ipython",
    "version": 3
   },
   "file_extension": ".py",
   "mimetype": "text/x-python",
   "name": "python",
   "nbconvert_exporter": "python",
   "pygments_lexer": "ipython3",
   "version": "3.9.13"
  }
 },
 "nbformat": 4,
 "nbformat_minor": 5
}
