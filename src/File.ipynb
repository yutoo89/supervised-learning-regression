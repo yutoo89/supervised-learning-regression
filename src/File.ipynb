{
 "cells": [
  {
   "cell_type": "markdown",
   "id": "7c103975",
   "metadata": {},
   "source": [
    "# ファイルの読み込み"
   ]
  },
  {
   "cell_type": "code",
   "execution_count": 7,
   "id": "4a6ead9b",
   "metadata": {},
   "outputs": [],
   "source": [
    "file = open('file/sample.txt', 'r')\n",
    "text = file.read()\n",
    "file.close()"
   ]
  },
  {
   "cell_type": "code",
   "execution_count": 4,
   "id": "a5049600",
   "metadata": {},
   "outputs": [
    {
     "name": "stdout",
     "output_type": "stream",
     "text": [
      "はじめまして。\n",
      "こちらはほげです。\n"
     ]
    }
   ],
   "source": [
    "print(text)"
   ]
  },
  {
   "cell_type": "markdown",
   "id": "89a825c8",
   "metadata": {},
   "source": [
    "# with構文"
   ]
  },
  {
   "cell_type": "code",
   "execution_count": 5,
   "id": "7160ca84",
   "metadata": {},
   "outputs": [],
   "source": [
    "with open('file/sample.txt', 'r') as f:\n",
    "    text = f.read()"
   ]
  },
  {
   "cell_type": "code",
   "execution_count": 6,
   "id": "8b8567fe",
   "metadata": {},
   "outputs": [
    {
     "name": "stdout",
     "output_type": "stream",
     "text": [
      "はじめまして。\n",
      "こちらはほげです。\n"
     ]
    }
   ],
   "source": [
    "print(text)"
   ]
  },
  {
   "cell_type": "markdown",
   "id": "1eee2b82",
   "metadata": {},
   "source": [
    "# jsonモジュール"
   ]
  },
  {
   "cell_type": "code",
   "execution_count": 8,
   "id": "ae8c462d",
   "metadata": {},
   "outputs": [],
   "source": [
    "import json\n",
    "with open('file/sample.json', 'r') as f:\n",
    "    data = json.load(f)"
   ]
  },
  {
   "cell_type": "code",
   "execution_count": 9,
   "id": "aa40dffd",
   "metadata": {},
   "outputs": [
    {
     "data": {
      "text/plain": [
       "{'store_name': '神田店',\n",
       " 'items': [{'item_id': 0, 'item_name': 'コーラ'},\n",
       "  {'item_id': 1, 'item_name': '唐揚げ弁当'},\n",
       "  {'item_id': 2, 'item_name': '週刊誌'}]}"
      ]
     },
     "execution_count": 9,
     "metadata": {},
     "output_type": "execute_result"
    }
   ],
   "source": [
    "data"
   ]
  },
  {
   "cell_type": "code",
   "execution_count": 10,
   "id": "dd0c56e9",
   "metadata": {},
   "outputs": [
    {
     "data": {
      "text/plain": [
       "'神田店'"
      ]
     },
     "execution_count": 10,
     "metadata": {},
     "output_type": "execute_result"
    }
   ],
   "source": [
    "data['store_name']"
   ]
  }
 ],
 "metadata": {
  "kernelspec": {
   "display_name": "Python 3 (ipykernel)",
   "language": "python",
   "name": "python3"
  },
  "language_info": {
   "codemirror_mode": {
    "name": "ipython",
    "version": 3
   },
   "file_extension": ".py",
   "mimetype": "text/x-python",
   "name": "python",
   "nbconvert_exporter": "python",
   "pygments_lexer": "ipython3",
   "version": "3.9.13"
  }
 },
 "nbformat": 4,
 "nbformat_minor": 5
}
