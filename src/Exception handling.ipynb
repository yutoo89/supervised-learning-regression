{
 "cells": [
  {
   "cell_type": "markdown",
   "id": "1bb677bc",
   "metadata": {},
   "source": [
    "# 0で割った時の例外処理"
   ]
  },
  {
   "cell_type": "code",
   "execution_count": 8,
   "id": "cea228a8",
   "metadata": {},
   "outputs": [
    {
     "data": {
      "text/plain": [
       "2.5"
      ]
     },
     "execution_count": 8,
     "metadata": {},
     "output_type": "execute_result"
    }
   ],
   "source": [
    "num = 4\n",
    "10 / num"
   ]
  },
  {
   "cell_type": "code",
   "execution_count": 7,
   "id": "9db461ef",
   "metadata": {},
   "outputs": [
    {
     "name": "stdout",
     "output_type": "stream",
     "text": [
      "計算結果: -3.3333333333333335\n",
      "計算結果: -5.0\n",
      "計算結果: -10.0\n",
      "エラー\n",
      "計算結果: 10.0\n",
      "計算結果: 5.0\n"
     ]
    }
   ],
   "source": [
    "for i in range(-3, 3):\n",
    "    try:\n",
    "        print(f'計算結果: {10/i}')\n",
    "    except:\n",
    "        print('エラー')"
   ]
  },
  {
   "cell_type": "markdown",
   "id": "8b336697",
   "metadata": {},
   "source": [
    "# 具体的なエラー内容の出力"
   ]
  },
  {
   "cell_type": "code",
   "execution_count": 9,
   "id": "3670a882",
   "metadata": {},
   "outputs": [
    {
     "name": "stdout",
     "output_type": "stream",
     "text": [
      "division by zero\n"
     ]
    }
   ],
   "source": [
    "num = 0\n",
    "try:\n",
    "    print(f'計算結果: {10/num}')\n",
    "except ZeroDivisionError as e:\n",
    "    print(e)"
   ]
  },
  {
   "cell_type": "markdown",
   "id": "2d078c5b",
   "metadata": {},
   "source": [
    "# エラー内容ごとの例外処理"
   ]
  },
  {
   "cell_type": "code",
   "execution_count": 10,
   "id": "4ff3d883",
   "metadata": {},
   "outputs": [],
   "source": [
    "def divide(a, b):\n",
    "    try:\n",
    "        print(f'計算結果: {a/b}')\n",
    "    except ZeroDivisionError as e:\n",
    "        print(e)"
   ]
  },
  {
   "cell_type": "code",
   "execution_count": 11,
   "id": "04ae23b6",
   "metadata": {},
   "outputs": [
    {
     "name": "stdout",
     "output_type": "stream",
     "text": [
      "division by zero\n"
     ]
    }
   ],
   "source": [
    "divide(10, 0)"
   ]
  },
  {
   "cell_type": "code",
   "execution_count": 12,
   "id": "b01a0731",
   "metadata": {},
   "outputs": [
    {
     "ename": "TypeError",
     "evalue": "unsupported operand type(s) for /: 'int' and 'str'",
     "output_type": "error",
     "traceback": [
      "\u001b[0;31m---------------------------------------------------------------------------\u001b[0m",
      "\u001b[0;31mTypeError\u001b[0m                                 Traceback (most recent call last)",
      "Input \u001b[0;32mIn [12]\u001b[0m, in \u001b[0;36m<cell line: 1>\u001b[0;34m()\u001b[0m\n\u001b[0;32m----> 1\u001b[0m \u001b[43mdivide\u001b[49m\u001b[43m(\u001b[49m\u001b[38;5;241;43m10\u001b[39;49m\u001b[43m,\u001b[49m\u001b[43m \u001b[49m\u001b[38;5;124;43m'\u001b[39;49m\u001b[38;5;124;43mzero\u001b[39;49m\u001b[38;5;124;43m'\u001b[39;49m\u001b[43m)\u001b[49m\n",
      "Input \u001b[0;32mIn [10]\u001b[0m, in \u001b[0;36mdivide\u001b[0;34m(a, b)\u001b[0m\n\u001b[1;32m      1\u001b[0m \u001b[38;5;28;01mdef\u001b[39;00m \u001b[38;5;21mdivide\u001b[39m(a, b):\n\u001b[1;32m      2\u001b[0m     \u001b[38;5;28;01mtry\u001b[39;00m:\n\u001b[0;32m----> 3\u001b[0m         \u001b[38;5;28mprint\u001b[39m(\u001b[38;5;124mf\u001b[39m\u001b[38;5;124m'\u001b[39m\u001b[38;5;124m計算結果: \u001b[39m\u001b[38;5;132;01m{\u001b[39;00ma\u001b[38;5;241m/\u001b[39mb\u001b[38;5;132;01m}\u001b[39;00m\u001b[38;5;124m'\u001b[39m)\n\u001b[1;32m      4\u001b[0m     \u001b[38;5;28;01mexcept\u001b[39;00m \u001b[38;5;167;01mZeroDivisionError\u001b[39;00m \u001b[38;5;28;01mas\u001b[39;00m e:\n\u001b[1;32m      5\u001b[0m         \u001b[38;5;28mprint\u001b[39m(e)\n",
      "\u001b[0;31mTypeError\u001b[0m: unsupported operand type(s) for /: 'int' and 'str'"
     ]
    }
   ],
   "source": [
    "divide(10, 'zero')"
   ]
  },
  {
   "cell_type": "code",
   "execution_count": 13,
   "id": "4ccefe0e",
   "metadata": {},
   "outputs": [],
   "source": [
    "def divide(a, b):\n",
    "    try:\n",
    "        print(f'計算結果: {a/b}')\n",
    "    except ZeroDivisionError as e:\n",
    "        print(e)\n",
    "    except TypeError as e:\n",
    "        print(e)"
   ]
  },
  {
   "cell_type": "code",
   "execution_count": 14,
   "id": "ffd2c07a",
   "metadata": {},
   "outputs": [
    {
     "name": "stdout",
     "output_type": "stream",
     "text": [
      "unsupported operand type(s) for /: 'int' and 'str'\n"
     ]
    }
   ],
   "source": [
    "divide(10, 'zero')"
   ]
  },
  {
   "cell_type": "code",
   "execution_count": 15,
   "id": "bd39cd6d",
   "metadata": {},
   "outputs": [
    {
     "name": "stdout",
     "output_type": "stream",
     "text": [
      "division by zero\n"
     ]
    }
   ],
   "source": [
    "divide(10, 0)"
   ]
  },
  {
   "cell_type": "code",
   "execution_count": 16,
   "id": "3cc27189",
   "metadata": {},
   "outputs": [
    {
     "name": "stdout",
     "output_type": "stream",
     "text": [
      "計算結果: 5.0\n"
     ]
    }
   ],
   "source": [
    "divide(10, 2)"
   ]
  },
  {
   "cell_type": "markdown",
   "id": "bb993b92",
   "metadata": {},
   "source": [
    "# 通常終了時の処理"
   ]
  },
  {
   "cell_type": "code",
   "execution_count": 17,
   "id": "25bd9669",
   "metadata": {},
   "outputs": [],
   "source": [
    "def divide(a, b):\n",
    "    try:\n",
    "        print(f'計算結果: {a/b}')\n",
    "    except ZeroDivisionError as e:\n",
    "        print(e)\n",
    "    except TypeError as e:\n",
    "        print(e)\n",
    "    else:\n",
    "        print('正常に終了しました')"
   ]
  },
  {
   "cell_type": "code",
   "execution_count": 19,
   "id": "1155cba1",
   "metadata": {},
   "outputs": [
    {
     "name": "stdout",
     "output_type": "stream",
     "text": [
      "計算結果: 3.3333333333333335\n",
      "正常に終了しました\n"
     ]
    }
   ],
   "source": [
    "divide(10, 3)"
   ]
  },
  {
   "cell_type": "code",
   "execution_count": 20,
   "id": "307424b6",
   "metadata": {},
   "outputs": [
    {
     "name": "stdout",
     "output_type": "stream",
     "text": [
      "division by zero\n"
     ]
    }
   ],
   "source": [
    "divide(10, 0)"
   ]
  },
  {
   "cell_type": "markdown",
   "id": "0a067eba",
   "metadata": {},
   "source": [
    "# 例外も含めた終了時の処理"
   ]
  },
  {
   "cell_type": "code",
   "execution_count": 21,
   "id": "14a90199",
   "metadata": {},
   "outputs": [],
   "source": [
    "def divide(a, b):\n",
    "    try:\n",
    "        print(f'計算結果: {a/b}')\n",
    "    except ZeroDivisionError as e:\n",
    "        print(e)\n",
    "    except TypeError as e:\n",
    "        print(e)\n",
    "    finally:\n",
    "        print('処理が終了しました')"
   ]
  },
  {
   "cell_type": "code",
   "execution_count": 22,
   "id": "3ebbb826",
   "metadata": {},
   "outputs": [
    {
     "name": "stdout",
     "output_type": "stream",
     "text": [
      "計算結果: 5.0\n",
      "処理が終了しました\n"
     ]
    }
   ],
   "source": [
    "divide(10, 2)"
   ]
  },
  {
   "cell_type": "code",
   "execution_count": 24,
   "id": "24352c94",
   "metadata": {},
   "outputs": [
    {
     "name": "stdout",
     "output_type": "stream",
     "text": [
      "division by zero\n",
      "処理が終了しました\n"
     ]
    }
   ],
   "source": [
    "divide(10, 0)"
   ]
  },
  {
   "cell_type": "markdown",
   "id": "8142acbe",
   "metadata": {},
   "source": [
    "# 例外をスルー\n",
    "例外が起きても何もせず、finallyブロックに進む"
   ]
  },
  {
   "cell_type": "code",
   "execution_count": 25,
   "id": "395a7554",
   "metadata": {},
   "outputs": [],
   "source": [
    "def divide(a, b):\n",
    "    try:\n",
    "        print(f'計算結果: {a/b}')\n",
    "    except ZeroDivisionError as e:\n",
    "        print(e)\n",
    "    except TypeError as e:\n",
    "        pass\n",
    "    finally:\n",
    "        print('処理が終了しました')"
   ]
  },
  {
   "cell_type": "code",
   "execution_count": 26,
   "id": "340f0609",
   "metadata": {},
   "outputs": [
    {
     "name": "stdout",
     "output_type": "stream",
     "text": [
      "処理が終了しました\n"
     ]
    }
   ],
   "source": [
    "divide(10, 'zero')"
   ]
  }
 ],
 "metadata": {
  "kernelspec": {
   "display_name": "Python 3 (ipykernel)",
   "language": "python",
   "name": "python3"
  },
  "language_info": {
   "codemirror_mode": {
    "name": "ipython",
    "version": 3
   },
   "file_extension": ".py",
   "mimetype": "text/x-python",
   "name": "python",
   "nbconvert_exporter": "python",
   "pygments_lexer": "ipython3",
   "version": "3.9.13"
  }
 },
 "nbformat": 4,
 "nbformat_minor": 5
}
