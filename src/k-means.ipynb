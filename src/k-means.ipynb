{
 "cells": [
  {
   "cell_type": "markdown",
   "id": "ac9da318",
   "metadata": {},
   "source": [
    "# k-means法\n",
    "クラスタリングと呼ばれる手法にあたり、データを複数のクラスタに分けて大まかな特徴を捉える際に使用する。\n",
    "\n",
    "1. 人間側がクラスタの数を決める\n",
    "2. ランダムに振られた点（重心）から近いものをクラスタとする\n",
    "3. 紐づいたクラスタとの距離を元に点を移動させる"
   ]
  },
  {
   "cell_type": "code",
   "execution_count": 1,
   "id": "020a49da",
   "metadata": {},
   "outputs": [
    {
     "data": {
      "text/html": [
       "<div>\n",
       "<style scoped>\n",
       "    .dataframe tbody tr th:only-of-type {\n",
       "        vertical-align: middle;\n",
       "    }\n",
       "\n",
       "    .dataframe tbody tr th {\n",
       "        vertical-align: top;\n",
       "    }\n",
       "\n",
       "    .dataframe thead th {\n",
       "        text-align: right;\n",
       "    }\n",
       "</style>\n",
       "<table border=\"1\" class=\"dataframe\">\n",
       "  <thead>\n",
       "    <tr style=\"text-align: right;\">\n",
       "      <th></th>\n",
       "      <th>No</th>\n",
       "      <th>弁当・麺類</th>\n",
       "      <th>飲料</th>\n",
       "      <th>おにぎり・サンドイッチ</th>\n",
       "      <th>スイーツ</th>\n",
       "      <th>カップスープ</th>\n",
       "      <th>サラダ</th>\n",
       "    </tr>\n",
       "  </thead>\n",
       "  <tbody>\n",
       "    <tr>\n",
       "      <th>0</th>\n",
       "      <td>1</td>\n",
       "      <td>25350</td>\n",
       "      <td>3650</td>\n",
       "      <td>8945</td>\n",
       "      <td>0</td>\n",
       "      <td>4867</td>\n",
       "      <td>8945</td>\n",
       "    </tr>\n",
       "    <tr>\n",
       "      <th>1</th>\n",
       "      <td>2</td>\n",
       "      <td>24500</td>\n",
       "      <td>0</td>\n",
       "      <td>0</td>\n",
       "      <td>1827</td>\n",
       "      <td>0</td>\n",
       "      <td>0</td>\n",
       "    </tr>\n",
       "    <tr>\n",
       "      <th>2</th>\n",
       "      <td>3</td>\n",
       "      <td>23050</td>\n",
       "      <td>5750</td>\n",
       "      <td>11570</td>\n",
       "      <td>0</td>\n",
       "      <td>7667</td>\n",
       "      <td>11570</td>\n",
       "    </tr>\n",
       "    <tr>\n",
       "      <th>3</th>\n",
       "      <td>4</td>\n",
       "      <td>22850</td>\n",
       "      <td>4100</td>\n",
       "      <td>10145</td>\n",
       "      <td>0</td>\n",
       "      <td>5467</td>\n",
       "      <td>10145</td>\n",
       "    </tr>\n",
       "    <tr>\n",
       "      <th>4</th>\n",
       "      <td>5</td>\n",
       "      <td>22500</td>\n",
       "      <td>0</td>\n",
       "      <td>0</td>\n",
       "      <td>0</td>\n",
       "      <td>0</td>\n",
       "      <td>0</td>\n",
       "    </tr>\n",
       "  </tbody>\n",
       "</table>\n",
       "</div>"
      ],
      "text/plain": [
       "   No  弁当・麺類    飲料  おにぎり・サンドイッチ  スイーツ  カップスープ    サラダ\n",
       "0   1  25350  3650         8945     0    4867   8945\n",
       "1   2  24500     0            0  1827       0      0\n",
       "2   3  23050  5750        11570     0    7667  11570\n",
       "3   4  22850  4100        10145     0    5467  10145\n",
       "4   5  22500     0            0     0       0      0"
      ]
     },
     "execution_count": 1,
     "metadata": {},
     "output_type": "execute_result"
    }
   ],
   "source": [
    "import pandas as pd\n",
    "df = pd.read_csv('file/convinience_store.csv')\n",
    "df.head()"
   ]
  },
  {
   "cell_type": "code",
   "execution_count": 2,
   "id": "5233318e",
   "metadata": {},
   "outputs": [
    {
     "data": {
      "text/plain": [
       "array([[25350,  3650,  8945,     0,  4867,  8945],\n",
       "       [24500,     0,     0,  1827,     0,     0],\n",
       "       [23050,  5750, 11570,     0,  7667, 11570]])"
      ]
     },
     "execution_count": 2,
     "metadata": {},
     "output_type": "execute_result"
    }
   ],
   "source": [
    "# No列を削除してNumpy配列に変換する\n",
    "x = df.drop('No', axis=1).values\n",
    "x[:3]"
   ]
  },
  {
   "cell_type": "code",
   "execution_count": 3,
   "id": "fd5a92f8",
   "metadata": {},
   "outputs": [],
   "source": [
    "from sklearn.cluster import KMeans"
   ]
  },
  {
   "cell_type": "code",
   "execution_count": 4,
   "id": "b1f77d0c",
   "metadata": {},
   "outputs": [
    {
     "data": {
      "text/html": [
       "<style>#sk-container-id-1 {color: black;background-color: white;}#sk-container-id-1 pre{padding: 0;}#sk-container-id-1 div.sk-toggleable {background-color: white;}#sk-container-id-1 label.sk-toggleable__label {cursor: pointer;display: block;width: 100%;margin-bottom: 0;padding: 0.3em;box-sizing: border-box;text-align: center;}#sk-container-id-1 label.sk-toggleable__label-arrow:before {content: \"▸\";float: left;margin-right: 0.25em;color: #696969;}#sk-container-id-1 label.sk-toggleable__label-arrow:hover:before {color: black;}#sk-container-id-1 div.sk-estimator:hover label.sk-toggleable__label-arrow:before {color: black;}#sk-container-id-1 div.sk-toggleable__content {max-height: 0;max-width: 0;overflow: hidden;text-align: left;background-color: #f0f8ff;}#sk-container-id-1 div.sk-toggleable__content pre {margin: 0.2em;color: black;border-radius: 0.25em;background-color: #f0f8ff;}#sk-container-id-1 input.sk-toggleable__control:checked~div.sk-toggleable__content {max-height: 200px;max-width: 100%;overflow: auto;}#sk-container-id-1 input.sk-toggleable__control:checked~label.sk-toggleable__label-arrow:before {content: \"▾\";}#sk-container-id-1 div.sk-estimator input.sk-toggleable__control:checked~label.sk-toggleable__label {background-color: #d4ebff;}#sk-container-id-1 div.sk-label input.sk-toggleable__control:checked~label.sk-toggleable__label {background-color: #d4ebff;}#sk-container-id-1 input.sk-hidden--visually {border: 0;clip: rect(1px 1px 1px 1px);clip: rect(1px, 1px, 1px, 1px);height: 1px;margin: -1px;overflow: hidden;padding: 0;position: absolute;width: 1px;}#sk-container-id-1 div.sk-estimator {font-family: monospace;background-color: #f0f8ff;border: 1px dotted black;border-radius: 0.25em;box-sizing: border-box;margin-bottom: 0.5em;}#sk-container-id-1 div.sk-estimator:hover {background-color: #d4ebff;}#sk-container-id-1 div.sk-parallel-item::after {content: \"\";width: 100%;border-bottom: 1px solid gray;flex-grow: 1;}#sk-container-id-1 div.sk-label:hover label.sk-toggleable__label {background-color: #d4ebff;}#sk-container-id-1 div.sk-serial::before {content: \"\";position: absolute;border-left: 1px solid gray;box-sizing: border-box;top: 0;bottom: 0;left: 50%;z-index: 0;}#sk-container-id-1 div.sk-serial {display: flex;flex-direction: column;align-items: center;background-color: white;padding-right: 0.2em;padding-left: 0.2em;position: relative;}#sk-container-id-1 div.sk-item {position: relative;z-index: 1;}#sk-container-id-1 div.sk-parallel {display: flex;align-items: stretch;justify-content: center;background-color: white;position: relative;}#sk-container-id-1 div.sk-item::before, #sk-container-id-1 div.sk-parallel-item::before {content: \"\";position: absolute;border-left: 1px solid gray;box-sizing: border-box;top: 0;bottom: 0;left: 50%;z-index: -1;}#sk-container-id-1 div.sk-parallel-item {display: flex;flex-direction: column;z-index: 1;position: relative;background-color: white;}#sk-container-id-1 div.sk-parallel-item:first-child::after {align-self: flex-end;width: 50%;}#sk-container-id-1 div.sk-parallel-item:last-child::after {align-self: flex-start;width: 50%;}#sk-container-id-1 div.sk-parallel-item:only-child::after {width: 0;}#sk-container-id-1 div.sk-dashed-wrapped {border: 1px dashed gray;margin: 0 0.4em 0.5em 0.4em;box-sizing: border-box;padding-bottom: 0.4em;background-color: white;}#sk-container-id-1 div.sk-label label {font-family: monospace;font-weight: bold;display: inline-block;line-height: 1.2em;}#sk-container-id-1 div.sk-label-container {text-align: center;}#sk-container-id-1 div.sk-container {/* jupyter's `normalize.less` sets `[hidden] { display: none; }` but bootstrap.min.css set `[hidden] { display: none !important; }` so we also need the `!important` here to be able to override the default hidden behavior on the sphinx rendered scikit-learn.org. See: https://github.com/scikit-learn/scikit-learn/issues/21755 */display: inline-block !important;position: relative;}#sk-container-id-1 div.sk-text-repr-fallback {display: none;}</style><div id=\"sk-container-id-1\" class=\"sk-top-container\"><div class=\"sk-text-repr-fallback\"><pre>KMeans(n_clusters=3, random_state=0)</pre><b>In a Jupyter environment, please rerun this cell to show the HTML representation or trust the notebook. <br />On GitHub, the HTML representation is unable to render, please try loading this page with nbviewer.org.</b></div><div class=\"sk-container\" hidden><div class=\"sk-item\"><div class=\"sk-estimator sk-toggleable\"><input class=\"sk-toggleable__control sk-hidden--visually\" id=\"sk-estimator-id-1\" type=\"checkbox\" checked><label for=\"sk-estimator-id-1\" class=\"sk-toggleable__label sk-toggleable__label-arrow\">KMeans</label><div class=\"sk-toggleable__content\"><pre>KMeans(n_clusters=3, random_state=0)</pre></div></div></div></div></div>"
      ],
      "text/plain": [
       "KMeans(n_clusters=3, random_state=0)"
      ]
     },
     "execution_count": 4,
     "metadata": {},
     "output_type": "execute_result"
    }
   ],
   "source": [
    "# クラスタ数は、ドメイン知識や業務上の必要性から決定する\n",
    "kmeans = KMeans(n_clusters=3, random_state=0)\n",
    "kmeans.fit(x)"
   ]
  },
  {
   "cell_type": "markdown",
   "id": "6f3f3eba",
   "metadata": {},
   "source": [
    "k-meansのモデルの学習では、それぞれのクラスターの中心座標を算出して保持する。\n",
    "\n",
    "今回のデータセットは6次元で、クラスター数を3と指定したため、3行6列の値を確認することができる。"
   ]
  },
  {
   "cell_type": "code",
   "execution_count": 5,
   "id": "fc940094",
   "metadata": {},
   "outputs": [
    {
     "data": {
      "text/plain": [
       "array([[ 5043.5483871 ,  3486.41935484,  7017.74193548,  2206.        ,\n",
       "         2512.90322581,  3509.12903226],\n",
       "       [28681.25      ,  5637.66666667,  1298.75      ,  1271.        ,\n",
       "         1770.875     ,   716.95833333],\n",
       "       [17266.66666667,  2730.93333333, 10721.66666667,   590.86666667,\n",
       "         3447.33333333,  9851.2       ]])"
      ]
     },
     "execution_count": 5,
     "metadata": {},
     "output_type": "execute_result"
    }
   ],
   "source": [
    "# 各クラスターの中心座標\n",
    "kmeans.cluster_centers_"
   ]
  },
  {
   "cell_type": "code",
   "execution_count": 6,
   "id": "c048e0d6",
   "metadata": {},
   "outputs": [
    {
     "data": {
      "text/plain": [
       "array([2, 1, 2, 2, 1, 2, 1, 1, 1, 2, 1, 2, 2, 1, 2, 2, 2, 2, 0, 2, 2, 0,\n",
       "       2, 2, 0, 0, 0, 0, 0, 0, 0, 0, 0, 0, 0, 0, 0, 0, 0, 0, 0, 0, 0, 0,\n",
       "       0, 0, 0, 0, 0, 0, 0, 0, 0, 1, 1, 1, 1, 1, 1, 1, 1, 1, 1, 1, 1, 1,\n",
       "       1, 1, 1, 1], dtype=int32)"
      ]
     },
     "execution_count": 6,
     "metadata": {},
     "output_type": "execute_result"
    }
   ],
   "source": [
    "# 予測値の取得\n",
    "cluster = kmeans.predict(x)\n",
    "cluster"
   ]
  },
  {
   "cell_type": "code",
   "execution_count": 7,
   "id": "235e4dc5",
   "metadata": {},
   "outputs": [],
   "source": [
    "# 元のデータセットにクラスタ情報の列を追加\n",
    "df_cluster = df.copy()\n",
    "df_cluster['cluster'] = cluster"
   ]
  },
  {
   "cell_type": "code",
   "execution_count": 8,
   "id": "e319a293",
   "metadata": {},
   "outputs": [
    {
     "data": {
      "text/html": [
       "<div>\n",
       "<style scoped>\n",
       "    .dataframe tbody tr th:only-of-type {\n",
       "        vertical-align: middle;\n",
       "    }\n",
       "\n",
       "    .dataframe tbody tr th {\n",
       "        vertical-align: top;\n",
       "    }\n",
       "\n",
       "    .dataframe thead th {\n",
       "        text-align: right;\n",
       "    }\n",
       "</style>\n",
       "<table border=\"1\" class=\"dataframe\">\n",
       "  <thead>\n",
       "    <tr style=\"text-align: right;\">\n",
       "      <th></th>\n",
       "      <th>No</th>\n",
       "      <th>弁当・麺類</th>\n",
       "      <th>飲料</th>\n",
       "      <th>おにぎり・サンドイッチ</th>\n",
       "      <th>スイーツ</th>\n",
       "      <th>カップスープ</th>\n",
       "      <th>サラダ</th>\n",
       "      <th>cluster</th>\n",
       "    </tr>\n",
       "  </thead>\n",
       "  <tbody>\n",
       "    <tr>\n",
       "      <th>0</th>\n",
       "      <td>1</td>\n",
       "      <td>25350</td>\n",
       "      <td>3650</td>\n",
       "      <td>8945</td>\n",
       "      <td>0</td>\n",
       "      <td>4867</td>\n",
       "      <td>8945</td>\n",
       "      <td>2</td>\n",
       "    </tr>\n",
       "    <tr>\n",
       "      <th>1</th>\n",
       "      <td>2</td>\n",
       "      <td>24500</td>\n",
       "      <td>0</td>\n",
       "      <td>0</td>\n",
       "      <td>1827</td>\n",
       "      <td>0</td>\n",
       "      <td>0</td>\n",
       "      <td>1</td>\n",
       "    </tr>\n",
       "    <tr>\n",
       "      <th>2</th>\n",
       "      <td>3</td>\n",
       "      <td>23050</td>\n",
       "      <td>5750</td>\n",
       "      <td>11570</td>\n",
       "      <td>0</td>\n",
       "      <td>7667</td>\n",
       "      <td>11570</td>\n",
       "      <td>2</td>\n",
       "    </tr>\n",
       "    <tr>\n",
       "      <th>3</th>\n",
       "      <td>4</td>\n",
       "      <td>22850</td>\n",
       "      <td>4100</td>\n",
       "      <td>10145</td>\n",
       "      <td>0</td>\n",
       "      <td>5467</td>\n",
       "      <td>10145</td>\n",
       "      <td>2</td>\n",
       "    </tr>\n",
       "    <tr>\n",
       "      <th>4</th>\n",
       "      <td>5</td>\n",
       "      <td>22500</td>\n",
       "      <td>0</td>\n",
       "      <td>0</td>\n",
       "      <td>0</td>\n",
       "      <td>0</td>\n",
       "      <td>0</td>\n",
       "      <td>1</td>\n",
       "    </tr>\n",
       "  </tbody>\n",
       "</table>\n",
       "</div>"
      ],
      "text/plain": [
       "   No  弁当・麺類    飲料  おにぎり・サンドイッチ  スイーツ  カップスープ    サラダ  cluster\n",
       "0   1  25350  3650         8945     0    4867   8945        2\n",
       "1   2  24500     0            0  1827       0      0        1\n",
       "2   3  23050  5750        11570     0    7667  11570        2\n",
       "3   4  22850  4100        10145     0    5467  10145        2\n",
       "4   5  22500     0            0     0       0      0        1"
      ]
     },
     "execution_count": 8,
     "metadata": {},
     "output_type": "execute_result"
    }
   ],
   "source": [
    "df_cluster.head()"
   ]
  },
  {
   "cell_type": "code",
   "execution_count": 9,
   "id": "bbfb3c6a",
   "metadata": {},
   "outputs": [
    {
     "data": {
      "text/html": [
       "<div>\n",
       "<style scoped>\n",
       "    .dataframe tbody tr th:only-of-type {\n",
       "        vertical-align: middle;\n",
       "    }\n",
       "\n",
       "    .dataframe tbody tr th {\n",
       "        vertical-align: top;\n",
       "    }\n",
       "\n",
       "    .dataframe thead th {\n",
       "        text-align: right;\n",
       "    }\n",
       "</style>\n",
       "<table border=\"1\" class=\"dataframe\">\n",
       "  <thead>\n",
       "    <tr style=\"text-align: right;\">\n",
       "      <th></th>\n",
       "    </tr>\n",
       "  </thead>\n",
       "  <tbody>\n",
       "  </tbody>\n",
       "</table>\n",
       "</div>"
      ],
      "text/plain": [
       "Empty DataFrame\n",
       "Columns: []\n",
       "Index: []"
      ]
     },
     "execution_count": 9,
     "metadata": {},
     "output_type": "execute_result"
    }
   ],
   "source": [
    "# 結果の検証\n",
    "# まず空のDataFrameを作る\n",
    "df_results = pd.DataFrame()\n",
    "df_results"
   ]
  },
  {
   "cell_type": "code",
   "execution_count": 10,
   "id": "75625548",
   "metadata": {},
   "outputs": [
    {
     "data": {
      "text/html": [
       "<div>\n",
       "<style scoped>\n",
       "    .dataframe tbody tr th:only-of-type {\n",
       "        vertical-align: middle;\n",
       "    }\n",
       "\n",
       "    .dataframe tbody tr th {\n",
       "        vertical-align: top;\n",
       "    }\n",
       "\n",
       "    .dataframe thead th {\n",
       "        text-align: right;\n",
       "    }\n",
       "</style>\n",
       "<table border=\"1\" class=\"dataframe\">\n",
       "  <thead>\n",
       "    <tr style=\"text-align: right;\">\n",
       "      <th></th>\n",
       "      <th>No</th>\n",
       "      <th>弁当・麺類</th>\n",
       "      <th>飲料</th>\n",
       "      <th>おにぎり・サンドイッチ</th>\n",
       "      <th>スイーツ</th>\n",
       "      <th>カップスープ</th>\n",
       "      <th>サラダ</th>\n",
       "      <th>cluster</th>\n",
       "    </tr>\n",
       "  </thead>\n",
       "  <tbody>\n",
       "    <tr>\n",
       "      <th>18</th>\n",
       "      <td>19</td>\n",
       "      <td>14500</td>\n",
       "      <td>8775</td>\n",
       "      <td>0</td>\n",
       "      <td>1003</td>\n",
       "      <td>11700</td>\n",
       "      <td>0</td>\n",
       "      <td>0</td>\n",
       "    </tr>\n",
       "    <tr>\n",
       "      <th>21</th>\n",
       "      <td>22</td>\n",
       "      <td>10750</td>\n",
       "      <td>0</td>\n",
       "      <td>0</td>\n",
       "      <td>3413</td>\n",
       "      <td>0</td>\n",
       "      <td>0</td>\n",
       "      <td>0</td>\n",
       "    </tr>\n",
       "    <tr>\n",
       "      <th>24</th>\n",
       "      <td>25</td>\n",
       "      <td>10600</td>\n",
       "      <td>4363</td>\n",
       "      <td>6695</td>\n",
       "      <td>1860</td>\n",
       "      <td>2908</td>\n",
       "      <td>3348</td>\n",
       "      <td>0</td>\n",
       "    </tr>\n",
       "    <tr>\n",
       "      <th>25</th>\n",
       "      <td>26</td>\n",
       "      <td>10200</td>\n",
       "      <td>5125</td>\n",
       "      <td>7970</td>\n",
       "      <td>1350</td>\n",
       "      <td>3417</td>\n",
       "      <td>3985</td>\n",
       "      <td>0</td>\n",
       "    </tr>\n",
       "    <tr>\n",
       "      <th>26</th>\n",
       "      <td>27</td>\n",
       "      <td>10000</td>\n",
       "      <td>7375</td>\n",
       "      <td>0</td>\n",
       "      <td>2360</td>\n",
       "      <td>4917</td>\n",
       "      <td>0</td>\n",
       "      <td>0</td>\n",
       "    </tr>\n",
       "  </tbody>\n",
       "</table>\n",
       "</div>"
      ],
      "text/plain": [
       "    No  弁当・麺類    飲料  おにぎり・サンドイッチ  スイーツ  カップスープ   サラダ  cluster\n",
       "18  19  14500  8775            0  1003   11700     0        0\n",
       "21  22  10750     0            0  3413       0     0        0\n",
       "24  25  10600  4363         6695  1860    2908  3348        0\n",
       "25  26  10200  5125         7970  1350    3417  3985        0\n",
       "26  27  10000  7375            0  2360    4917     0        0"
      ]
     },
     "execution_count": 10,
     "metadata": {},
     "output_type": "execute_result"
    }
   ],
   "source": [
    "# クラスタが0の行のみを取得\n",
    "df_cluster[df_cluster['cluster'] == 0].head()"
   ]
  },
  {
   "cell_type": "code",
   "execution_count": 11,
   "id": "4aba2f59",
   "metadata": {},
   "outputs": [
    {
     "data": {
      "text/plain": [
       "No               37.806452\n",
       "弁当・麺類          5043.548387\n",
       "飲料             3486.419355\n",
       "おにぎり・サンドイッチ    7017.741935\n",
       "スイーツ           2206.000000\n",
       "カップスープ         2512.903226\n",
       "サラダ            3509.129032\n",
       "cluster           0.000000\n",
       "dtype: float64"
      ]
     },
     "execution_count": 11,
     "metadata": {},
     "output_type": "execute_result"
    }
   ],
   "source": [
    "# クラスタ0の平均値\n",
    "df_cluster[df_cluster['cluster'] == 0].mean()"
   ]
  },
  {
   "cell_type": "code",
   "execution_count": 12,
   "id": "85fc11ba",
   "metadata": {},
   "outputs": [],
   "source": [
    "# df_resultsにクラスタごとの平均値を入れる\n",
    "df_results['cluster 0'] = df_cluster[df_cluster['cluster'] == 0].mean().tolist()\n",
    "df_results['cluster 1'] = df_cluster[df_cluster['cluster'] == 1].mean().tolist()\n",
    "df_results['cluster 2'] = df_cluster[df_cluster['cluster'] == 2].mean().tolist()"
   ]
  },
  {
   "cell_type": "code",
   "execution_count": 13,
   "id": "45b20ecd",
   "metadata": {},
   "outputs": [
    {
     "data": {
      "text/html": [
       "<div>\n",
       "<style scoped>\n",
       "    .dataframe tbody tr th:only-of-type {\n",
       "        vertical-align: middle;\n",
       "    }\n",
       "\n",
       "    .dataframe tbody tr th {\n",
       "        vertical-align: top;\n",
       "    }\n",
       "\n",
       "    .dataframe thead th {\n",
       "        text-align: right;\n",
       "    }\n",
       "</style>\n",
       "<table border=\"1\" class=\"dataframe\">\n",
       "  <thead>\n",
       "    <tr style=\"text-align: right;\">\n",
       "      <th></th>\n",
       "      <th>cluster 0</th>\n",
       "      <th>cluster 1</th>\n",
       "      <th>cluster 2</th>\n",
       "    </tr>\n",
       "  </thead>\n",
       "  <tbody>\n",
       "    <tr>\n",
       "      <th>0</th>\n",
       "      <td>37.806452</td>\n",
       "      <td>46.250000</td>\n",
       "      <td>13.533333</td>\n",
       "    </tr>\n",
       "    <tr>\n",
       "      <th>1</th>\n",
       "      <td>5043.548387</td>\n",
       "      <td>28681.250000</td>\n",
       "      <td>17266.666667</td>\n",
       "    </tr>\n",
       "    <tr>\n",
       "      <th>2</th>\n",
       "      <td>3486.419355</td>\n",
       "      <td>5637.666667</td>\n",
       "      <td>2730.933333</td>\n",
       "    </tr>\n",
       "    <tr>\n",
       "      <th>3</th>\n",
       "      <td>7017.741935</td>\n",
       "      <td>1298.750000</td>\n",
       "      <td>10721.666667</td>\n",
       "    </tr>\n",
       "    <tr>\n",
       "      <th>4</th>\n",
       "      <td>2206.000000</td>\n",
       "      <td>1271.000000</td>\n",
       "      <td>590.866667</td>\n",
       "    </tr>\n",
       "    <tr>\n",
       "      <th>5</th>\n",
       "      <td>2512.903226</td>\n",
       "      <td>1770.875000</td>\n",
       "      <td>3447.333333</td>\n",
       "    </tr>\n",
       "    <tr>\n",
       "      <th>6</th>\n",
       "      <td>3509.129032</td>\n",
       "      <td>716.958333</td>\n",
       "      <td>9851.200000</td>\n",
       "    </tr>\n",
       "    <tr>\n",
       "      <th>7</th>\n",
       "      <td>0.000000</td>\n",
       "      <td>1.000000</td>\n",
       "      <td>2.000000</td>\n",
       "    </tr>\n",
       "  </tbody>\n",
       "</table>\n",
       "</div>"
      ],
      "text/plain": [
       "     cluster 0     cluster 1     cluster 2\n",
       "0    37.806452     46.250000     13.533333\n",
       "1  5043.548387  28681.250000  17266.666667\n",
       "2  3486.419355   5637.666667   2730.933333\n",
       "3  7017.741935   1298.750000  10721.666667\n",
       "4  2206.000000   1271.000000    590.866667\n",
       "5  2512.903226   1770.875000   3447.333333\n",
       "6  3509.129032    716.958333   9851.200000\n",
       "7     0.000000      1.000000      2.000000"
      ]
     },
     "execution_count": 13,
     "metadata": {},
     "output_type": "execute_result"
    }
   ],
   "source": [
    "df_results"
   ]
  },
  {
   "cell_type": "code",
   "execution_count": 14,
   "id": "dd971954",
   "metadata": {},
   "outputs": [
    {
     "data": {
      "text/html": [
       "<div>\n",
       "<style scoped>\n",
       "    .dataframe tbody tr th:only-of-type {\n",
       "        vertical-align: middle;\n",
       "    }\n",
       "\n",
       "    .dataframe tbody tr th {\n",
       "        vertical-align: top;\n",
       "    }\n",
       "\n",
       "    .dataframe thead th {\n",
       "        text-align: right;\n",
       "    }\n",
       "</style>\n",
       "<table border=\"1\" class=\"dataframe\">\n",
       "  <thead>\n",
       "    <tr style=\"text-align: right;\">\n",
       "      <th></th>\n",
       "      <th>cluster 0</th>\n",
       "      <th>cluster 1</th>\n",
       "      <th>cluster 2</th>\n",
       "    </tr>\n",
       "  </thead>\n",
       "  <tbody>\n",
       "    <tr>\n",
       "      <th>No</th>\n",
       "      <td>37.806452</td>\n",
       "      <td>46.250000</td>\n",
       "      <td>13.533333</td>\n",
       "    </tr>\n",
       "    <tr>\n",
       "      <th>弁当・麺類</th>\n",
       "      <td>5043.548387</td>\n",
       "      <td>28681.250000</td>\n",
       "      <td>17266.666667</td>\n",
       "    </tr>\n",
       "    <tr>\n",
       "      <th>飲料</th>\n",
       "      <td>3486.419355</td>\n",
       "      <td>5637.666667</td>\n",
       "      <td>2730.933333</td>\n",
       "    </tr>\n",
       "    <tr>\n",
       "      <th>おにぎり・サンドイッチ</th>\n",
       "      <td>7017.741935</td>\n",
       "      <td>1298.750000</td>\n",
       "      <td>10721.666667</td>\n",
       "    </tr>\n",
       "    <tr>\n",
       "      <th>スイーツ</th>\n",
       "      <td>2206.000000</td>\n",
       "      <td>1271.000000</td>\n",
       "      <td>590.866667</td>\n",
       "    </tr>\n",
       "    <tr>\n",
       "      <th>カップスープ</th>\n",
       "      <td>2512.903226</td>\n",
       "      <td>1770.875000</td>\n",
       "      <td>3447.333333</td>\n",
       "    </tr>\n",
       "    <tr>\n",
       "      <th>サラダ</th>\n",
       "      <td>3509.129032</td>\n",
       "      <td>716.958333</td>\n",
       "      <td>9851.200000</td>\n",
       "    </tr>\n",
       "    <tr>\n",
       "      <th>cluster</th>\n",
       "      <td>0.000000</td>\n",
       "      <td>1.000000</td>\n",
       "      <td>2.000000</td>\n",
       "    </tr>\n",
       "  </tbody>\n",
       "</table>\n",
       "</div>"
      ],
      "text/plain": [
       "               cluster 0     cluster 1     cluster 2\n",
       "No             37.806452     46.250000     13.533333\n",
       "弁当・麺類        5043.548387  28681.250000  17266.666667\n",
       "飲料           3486.419355   5637.666667   2730.933333\n",
       "おにぎり・サンドイッチ  7017.741935   1298.750000  10721.666667\n",
       "スイーツ         2206.000000   1271.000000    590.866667\n",
       "カップスープ       2512.903226   1770.875000   3447.333333\n",
       "サラダ          3509.129032    716.958333   9851.200000\n",
       "cluster         0.000000      1.000000      2.000000"
      ]
     },
     "execution_count": 14,
     "metadata": {},
     "output_type": "execute_result"
    }
   ],
   "source": [
    "# indexを数字でなくラベルを割り当てる\n",
    "df_results = df_results.set_index(df_cluster.columns)\n",
    "df_results"
   ]
  },
  {
   "cell_type": "code",
   "execution_count": 15,
   "id": "01a2f01b",
   "metadata": {},
   "outputs": [
    {
     "data": {
      "text/html": [
       "<div>\n",
       "<style scoped>\n",
       "    .dataframe tbody tr th:only-of-type {\n",
       "        vertical-align: middle;\n",
       "    }\n",
       "\n",
       "    .dataframe tbody tr th {\n",
       "        vertical-align: top;\n",
       "    }\n",
       "\n",
       "    .dataframe thead th {\n",
       "        text-align: right;\n",
       "    }\n",
       "</style>\n",
       "<table border=\"1\" class=\"dataframe\">\n",
       "  <thead>\n",
       "    <tr style=\"text-align: right;\">\n",
       "      <th></th>\n",
       "      <th>弁当・麺類</th>\n",
       "      <th>飲料</th>\n",
       "      <th>おにぎり・サンドイッチ</th>\n",
       "      <th>スイーツ</th>\n",
       "      <th>カップスープ</th>\n",
       "      <th>サラダ</th>\n",
       "    </tr>\n",
       "  </thead>\n",
       "  <tbody>\n",
       "    <tr>\n",
       "      <th>cluster 0</th>\n",
       "      <td>5043.548387</td>\n",
       "      <td>3486.419355</td>\n",
       "      <td>7017.741935</td>\n",
       "      <td>2206.000000</td>\n",
       "      <td>2512.903226</td>\n",
       "      <td>3509.129032</td>\n",
       "    </tr>\n",
       "    <tr>\n",
       "      <th>cluster 1</th>\n",
       "      <td>28681.250000</td>\n",
       "      <td>5637.666667</td>\n",
       "      <td>1298.750000</td>\n",
       "      <td>1271.000000</td>\n",
       "      <td>1770.875000</td>\n",
       "      <td>716.958333</td>\n",
       "    </tr>\n",
       "    <tr>\n",
       "      <th>cluster 2</th>\n",
       "      <td>17266.666667</td>\n",
       "      <td>2730.933333</td>\n",
       "      <td>10721.666667</td>\n",
       "      <td>590.866667</td>\n",
       "      <td>3447.333333</td>\n",
       "      <td>9851.200000</td>\n",
       "    </tr>\n",
       "  </tbody>\n",
       "</table>\n",
       "</div>"
      ],
      "text/plain": [
       "                  弁当・麺類           飲料   おにぎり・サンドイッチ         スイーツ       カップスープ  \\\n",
       "cluster 0   5043.548387  3486.419355   7017.741935  2206.000000  2512.903226   \n",
       "cluster 1  28681.250000  5637.666667   1298.750000  1271.000000  1770.875000   \n",
       "cluster 2  17266.666667  2730.933333  10721.666667   590.866667  3447.333333   \n",
       "\n",
       "                   サラダ  \n",
       "cluster 0  3509.129032  \n",
       "cluster 1   716.958333  \n",
       "cluster 2  9851.200000  "
      ]
     },
     "execution_count": 15,
     "metadata": {},
     "output_type": "execute_result"
    }
   ],
   "source": [
    "# 不要なカラムを削除\n",
    "# .Tで行と列を反転\n",
    "df_results = df_results.drop(['No', 'cluster']).T\n",
    "df_results"
   ]
  }
 ],
 "metadata": {
  "kernelspec": {
   "display_name": "Python 3 (ipykernel)",
   "language": "python",
   "name": "python3"
  },
  "language_info": {
   "codemirror_mode": {
    "name": "ipython",
    "version": 3
   },
   "file_extension": ".py",
   "mimetype": "text/x-python",
   "name": "python",
   "nbconvert_exporter": "python",
   "pygments_lexer": "ipython3",
   "version": "3.9.13"
  }
 },
 "nbformat": 4,
 "nbformat_minor": 5
}
